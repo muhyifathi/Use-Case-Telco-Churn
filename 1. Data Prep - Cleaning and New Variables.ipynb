{
 "cells": [
  {
   "cell_type": "code",
   "execution_count": 1,
   "id": "e300fd35-11a4-4e2f-a9e8-28b4e000687c",
   "metadata": {},
   "outputs": [],
   "source": [
    "import pandas as pd\n",
    "import numpy as np\n",
    "import seaborn as sns\n",
    "import matplotlib.pyplot as plt"
   ]
  },
  {
   "cell_type": "code",
   "execution_count": 2,
   "id": "0099c10a-a958-478c-9bae-1311ab4f17ec",
   "metadata": {},
   "outputs": [],
   "source": [
    "df_telco = pd.read_excel('Telco_customer_churn.xlsx')"
   ]
  },
  {
   "cell_type": "markdown",
   "id": "c77cdfd7-b427-47f8-8b7c-0c9527db1d69",
   "metadata": {},
   "source": [
    "# Data Cleansing"
   ]
  },
  {
   "cell_type": "code",
   "execution_count": 3,
   "id": "91a33ffc-9326-46c8-95e9-215d93c7ff79",
   "metadata": {},
   "outputs": [],
   "source": [
    "look_var = ['Monthly Charges', 'Total Charges','Tenure Months','Churn Label']"
   ]
  },
  {
   "cell_type": "code",
   "execution_count": 4,
   "id": "e2def1f0-7c31-4324-949b-54965bfdf555",
   "metadata": {},
   "outputs": [],
   "source": [
    "df_telco['Total Charges'] = np.where(df_telco['Total Charges']==' ', 0, df_telco['Total Charges'])\n",
    "df_telco['Total Charges'] = df_telco['Total Charges'].astype(float)"
   ]
  },
  {
   "cell_type": "code",
   "execution_count": 5,
   "id": "688b729f-66f8-46b7-8edd-36c2326fb25e",
   "metadata": {},
   "outputs": [
    {
     "data": {
      "text/html": [
       "<div>\n",
       "<style scoped>\n",
       "    .dataframe tbody tr th:only-of-type {\n",
       "        vertical-align: middle;\n",
       "    }\n",
       "\n",
       "    .dataframe tbody tr th {\n",
       "        vertical-align: top;\n",
       "    }\n",
       "\n",
       "    .dataframe thead th {\n",
       "        text-align: right;\n",
       "    }\n",
       "</style>\n",
       "<table border=\"1\" class=\"dataframe\">\n",
       "  <thead>\n",
       "    <tr style=\"text-align: right;\">\n",
       "      <th></th>\n",
       "      <th>Monthly Charges</th>\n",
       "      <th>Total Charges</th>\n",
       "      <th>Tenure Months</th>\n",
       "      <th>Churn Label</th>\n",
       "    </tr>\n",
       "  </thead>\n",
       "  <tbody>\n",
       "    <tr>\n",
       "      <th>2234</th>\n",
       "      <td>52.55</td>\n",
       "      <td>0.0</td>\n",
       "      <td>0</td>\n",
       "      <td>No</td>\n",
       "    </tr>\n",
       "    <tr>\n",
       "      <th>2438</th>\n",
       "      <td>20.25</td>\n",
       "      <td>0.0</td>\n",
       "      <td>0</td>\n",
       "      <td>No</td>\n",
       "    </tr>\n",
       "    <tr>\n",
       "      <th>2568</th>\n",
       "      <td>80.85</td>\n",
       "      <td>0.0</td>\n",
       "      <td>0</td>\n",
       "      <td>No</td>\n",
       "    </tr>\n",
       "    <tr>\n",
       "      <th>2667</th>\n",
       "      <td>25.75</td>\n",
       "      <td>0.0</td>\n",
       "      <td>0</td>\n",
       "      <td>No</td>\n",
       "    </tr>\n",
       "    <tr>\n",
       "      <th>2856</th>\n",
       "      <td>56.05</td>\n",
       "      <td>0.0</td>\n",
       "      <td>0</td>\n",
       "      <td>No</td>\n",
       "    </tr>\n",
       "    <tr>\n",
       "      <th>4331</th>\n",
       "      <td>19.85</td>\n",
       "      <td>0.0</td>\n",
       "      <td>0</td>\n",
       "      <td>No</td>\n",
       "    </tr>\n",
       "    <tr>\n",
       "      <th>4687</th>\n",
       "      <td>25.35</td>\n",
       "      <td>0.0</td>\n",
       "      <td>0</td>\n",
       "      <td>No</td>\n",
       "    </tr>\n",
       "    <tr>\n",
       "      <th>5104</th>\n",
       "      <td>20.00</td>\n",
       "      <td>0.0</td>\n",
       "      <td>0</td>\n",
       "      <td>No</td>\n",
       "    </tr>\n",
       "    <tr>\n",
       "      <th>5719</th>\n",
       "      <td>19.70</td>\n",
       "      <td>0.0</td>\n",
       "      <td>0</td>\n",
       "      <td>No</td>\n",
       "    </tr>\n",
       "    <tr>\n",
       "      <th>6772</th>\n",
       "      <td>73.35</td>\n",
       "      <td>0.0</td>\n",
       "      <td>0</td>\n",
       "      <td>No</td>\n",
       "    </tr>\n",
       "    <tr>\n",
       "      <th>6840</th>\n",
       "      <td>61.90</td>\n",
       "      <td>0.0</td>\n",
       "      <td>0</td>\n",
       "      <td>No</td>\n",
       "    </tr>\n",
       "  </tbody>\n",
       "</table>\n",
       "</div>"
      ],
      "text/plain": [
       "      Monthly Charges  Total Charges  Tenure Months Churn Label\n",
       "2234            52.55            0.0              0          No\n",
       "2438            20.25            0.0              0          No\n",
       "2568            80.85            0.0              0          No\n",
       "2667            25.75            0.0              0          No\n",
       "2856            56.05            0.0              0          No\n",
       "4331            19.85            0.0              0          No\n",
       "4687            25.35            0.0              0          No\n",
       "5104            20.00            0.0              0          No\n",
       "5719            19.70            0.0              0          No\n",
       "6772            73.35            0.0              0          No\n",
       "6840            61.90            0.0              0          No"
      ]
     },
     "execution_count": 5,
     "metadata": {},
     "output_type": "execute_result"
    }
   ],
   "source": [
    "df_telco[df_telco['Total Charges']==0][look_var]"
   ]
  },
  {
   "cell_type": "markdown",
   "id": "7669d596-e57b-4a41-8d32-c01055210c89",
   "metadata": {},
   "source": [
    "# Data Transformation"
   ]
  },
  {
   "cell_type": "markdown",
   "id": "e57d394f-ee95-4a3a-a9ea-4f46ad66c677",
   "metadata": {},
   "source": [
    "## Tenure"
   ]
  },
  {
   "cell_type": "code",
   "execution_count": 6,
   "id": "8b04de49-ed7d-4246-aad2-8ed1c2180e47",
   "metadata": {},
   "outputs": [
    {
     "data": {
      "text/plain": [
       "<Axes: xlabel='Tenure Months', ylabel='Count'>"
      ]
     },
     "execution_count": 6,
     "metadata": {},
     "output_type": "execute_result"
    },
    {
     "data": {
      "image/png": "[encoded data removed]",
      "text/plain": [
       "<Figure size 640x480 with 1 Axes>"
      ]
     },
     "metadata": {},
     "output_type": "display_data"
    }
   ],
   "source": [
    "sns.histplot(\n",
    "    data = df_telco, \n",
    "    x = 'Tenure Months'\n",
    ")"
   ]
  },
  {
   "cell_type": "code",
   "execution_count": 7,
   "id": "515c5d5d-208b-4440-a405-a3dda0db227d",
   "metadata": {},
   "outputs": [],
   "source": [
    "def tenure_year(tenure_months):\n",
    "    if tenure_months < 12:\n",
    "        return 0\n",
    "    elif tenure_months < 24:\n",
    "        return 1\n",
    "    elif tenure_months < 36:\n",
    "        return 2\n",
    "    elif tenure_months < 48:\n",
    "        return 3\n",
    "    elif tenure_months < 60:\n",
    "        return 4\n",
    "    else:\n",
    "        return 5\n",
    "\n",
    "def newly_onboard(tenure_months):\n",
    "    if tenure_months <= 3:\n",
    "        return 1\n",
    "    else:\n",
    "        return 0"
   ]
  },
  {
   "cell_type": "code",
   "execution_count": 8,
   "id": "64ec570b-f1ff-4113-99cb-638fd041a1f3",
   "metadata": {},
   "outputs": [],
   "source": [
    "df_telco['Tenure Years'] = df_telco['Tenure Months'].apply(tenure_year)\n",
    "df_telco['newly onboard'] = df_telco['Tenure Months'].apply(newly_onboard)"
   ]
  },
  {
   "cell_type": "code",
   "execution_count": 9,
   "id": "82f58be4-80dd-4d9f-99d6-715077be7e55",
   "metadata": {},
   "outputs": [
    {
     "data": {
      "text/plain": [
       "Tenure Years\n",
       "0    2069\n",
       "5    1483\n",
       "1    1047\n",
       "2     876\n",
       "4     820\n",
       "3     748\n",
       "Name: count, dtype: int64"
      ]
     },
     "execution_count": 9,
     "metadata": {},
     "output_type": "execute_result"
    }
   ],
   "source": [
    "df_telco['Tenure Years'].value_counts()"
   ]
  },
  {
   "cell_type": "code",
   "execution_count": 10,
   "id": "827220f4-b96d-453a-86c9-b06949143b92",
   "metadata": {},
   "outputs": [
    {
     "data": {
      "text/plain": [
       "newly onboard\n",
       "0    5981\n",
       "1    1062\n",
       "Name: count, dtype: int64"
      ]
     },
     "execution_count": 10,
     "metadata": {},
     "output_type": "execute_result"
    }
   ],
   "source": [
    "df_telco['newly onboard'].value_counts()"
   ]
  },
  {
   "cell_type": "code",
   "execution_count": 11,
   "id": "8d704e89-a5b2-46c6-84c0-b30ad31352b9",
   "metadata": {},
   "outputs": [
    {
     "data": {
      "text/html": [
       "<div>\n",
       "<style scoped>\n",
       "    .dataframe tbody tr th:only-of-type {\n",
       "        vertical-align: middle;\n",
       "    }\n",
       "\n",
       "    .dataframe tbody tr th {\n",
       "        vertical-align: top;\n",
       "    }\n",
       "\n",
       "    .dataframe thead th {\n",
       "        text-align: right;\n",
       "    }\n",
       "</style>\n",
       "<table border=\"1\" class=\"dataframe\">\n",
       "  <thead>\n",
       "    <tr style=\"text-align: right;\">\n",
       "      <th>Churn Label</th>\n",
       "      <th>No</th>\n",
       "      <th>Yes</th>\n",
       "    </tr>\n",
       "    <tr>\n",
       "      <th>Tenure Years</th>\n",
       "      <th></th>\n",
       "      <th></th>\n",
       "    </tr>\n",
       "  </thead>\n",
       "  <tbody>\n",
       "    <tr>\n",
       "      <th>0</th>\n",
       "      <td>0.517158</td>\n",
       "      <td>0.482842</td>\n",
       "    </tr>\n",
       "    <tr>\n",
       "      <th>1</th>\n",
       "      <td>0.704871</td>\n",
       "      <td>0.295129</td>\n",
       "    </tr>\n",
       "    <tr>\n",
       "      <th>2</th>\n",
       "      <td>0.779680</td>\n",
       "      <td>0.220320</td>\n",
       "    </tr>\n",
       "    <tr>\n",
       "      <th>3</th>\n",
       "      <td>0.804813</td>\n",
       "      <td>0.195187</td>\n",
       "    </tr>\n",
       "    <tr>\n",
       "      <th>4</th>\n",
       "      <td>0.850000</td>\n",
       "      <td>0.150000</td>\n",
       "    </tr>\n",
       "    <tr>\n",
       "      <th>5</th>\n",
       "      <td>0.933243</td>\n",
       "      <td>0.066757</td>\n",
       "    </tr>\n",
       "  </tbody>\n",
       "</table>\n",
       "</div>"
      ],
      "text/plain": [
       "Churn Label         No       Yes\n",
       "Tenure Years                    \n",
       "0             0.517158  0.482842\n",
       "1             0.704871  0.295129\n",
       "2             0.779680  0.220320\n",
       "3             0.804813  0.195187\n",
       "4             0.850000  0.150000\n",
       "5             0.933243  0.066757"
      ]
     },
     "execution_count": 11,
     "metadata": {},
     "output_type": "execute_result"
    }
   ],
   "source": [
    "pd.crosstab(df_telco['Tenure Years'], df_telco['Churn Label'], normalize = 0)"
   ]
  },
  {
   "cell_type": "code",
   "execution_count": 12,
   "id": "62c1851e-47d7-4e20-aa0d-7941e329560b",
   "metadata": {},
   "outputs": [
    {
     "data": {
      "text/html": [
       "<div>\n",
       "<style scoped>\n",
       "    .dataframe tbody tr th:only-of-type {\n",
       "        vertical-align: middle;\n",
       "    }\n",
       "\n",
       "    .dataframe tbody tr th {\n",
       "        vertical-align: top;\n",
       "    }\n",
       "\n",
       "    .dataframe thead th {\n",
       "        text-align: right;\n",
       "    }\n",
       "</style>\n",
       "<table border=\"1\" class=\"dataframe\">\n",
       "  <thead>\n",
       "    <tr style=\"text-align: right;\">\n",
       "      <th>Churn Label</th>\n",
       "      <th>No</th>\n",
       "      <th>Yes</th>\n",
       "    </tr>\n",
       "    <tr>\n",
       "      <th>newly onboard</th>\n",
       "      <th></th>\n",
       "      <th></th>\n",
       "    </tr>\n",
       "  </thead>\n",
       "  <tbody>\n",
       "    <tr>\n",
       "      <th>0</th>\n",
       "      <td>0.787327</td>\n",
       "      <td>0.212673</td>\n",
       "    </tr>\n",
       "    <tr>\n",
       "      <th>1</th>\n",
       "      <td>0.437853</td>\n",
       "      <td>0.562147</td>\n",
       "    </tr>\n",
       "  </tbody>\n",
       "</table>\n",
       "</div>"
      ],
      "text/plain": [
       "Churn Label          No       Yes\n",
       "newly onboard                    \n",
       "0              0.787327  0.212673\n",
       "1              0.437853  0.562147"
      ]
     },
     "execution_count": 12,
     "metadata": {},
     "output_type": "execute_result"
    }
   ],
   "source": [
    "pd.crosstab(df_telco['newly onboard'], df_telco['Churn Label'], normalize = 0)"
   ]
  },
  {
   "cell_type": "markdown",
   "id": "e74bcfa8-f119-4408-910b-fee70c0bb239",
   "metadata": {},
   "source": [
    "# Transaction"
   ]
  },
  {
   "cell_type": "code",
   "execution_count": 13,
   "id": "af8c234e-69a4-4bc2-b22a-bc11bcbb20c2",
   "metadata": {},
   "outputs": [],
   "source": [
    "df_telco['Avg Charges'] = np.where(df_telco['Tenure Months']==0,0,df_telco['Total Charges']/df_telco['Tenure Months'])"
   ]
  },
  {
   "cell_type": "code",
   "execution_count": 14,
   "id": "ffe97a8a-5aa7-4c08-897c-317c22b146a1",
   "metadata": {},
   "outputs": [
    {
     "data": {
      "text/html": [
       "<div>\n",
       "<style scoped>\n",
       "    .dataframe tbody tr th:only-of-type {\n",
       "        vertical-align: middle;\n",
       "    }\n",
       "\n",
       "    .dataframe tbody tr th {\n",
       "        vertical-align: top;\n",
       "    }\n",
       "\n",
       "    .dataframe thead th {\n",
       "        text-align: right;\n",
       "    }\n",
       "</style>\n",
       "<table border=\"1\" class=\"dataframe\">\n",
       "  <thead>\n",
       "    <tr style=\"text-align: right;\">\n",
       "      <th></th>\n",
       "      <th>Monthly Charges</th>\n",
       "      <th>Total Charges</th>\n",
       "      <th>Tenure Months</th>\n",
       "      <th>Avg Charges</th>\n",
       "      <th>Churn Label</th>\n",
       "    </tr>\n",
       "  </thead>\n",
       "  <tbody>\n",
       "    <tr>\n",
       "      <th>0</th>\n",
       "      <td>53.85</td>\n",
       "      <td>108.15</td>\n",
       "      <td>2</td>\n",
       "      <td>54.075000</td>\n",
       "      <td>Yes</td>\n",
       "    </tr>\n",
       "    <tr>\n",
       "      <th>1</th>\n",
       "      <td>70.70</td>\n",
       "      <td>151.65</td>\n",
       "      <td>2</td>\n",
       "      <td>75.825000</td>\n",
       "      <td>Yes</td>\n",
       "    </tr>\n",
       "    <tr>\n",
       "      <th>2</th>\n",
       "      <td>99.65</td>\n",
       "      <td>820.50</td>\n",
       "      <td>8</td>\n",
       "      <td>102.562500</td>\n",
       "      <td>Yes</td>\n",
       "    </tr>\n",
       "    <tr>\n",
       "      <th>3</th>\n",
       "      <td>104.80</td>\n",
       "      <td>3046.05</td>\n",
       "      <td>28</td>\n",
       "      <td>108.787500</td>\n",
       "      <td>Yes</td>\n",
       "    </tr>\n",
       "    <tr>\n",
       "      <th>4</th>\n",
       "      <td>103.70</td>\n",
       "      <td>5036.30</td>\n",
       "      <td>49</td>\n",
       "      <td>102.781633</td>\n",
       "      <td>Yes</td>\n",
       "    </tr>\n",
       "    <tr>\n",
       "      <th>...</th>\n",
       "      <td>...</td>\n",
       "      <td>...</td>\n",
       "      <td>...</td>\n",
       "      <td>...</td>\n",
       "      <td>...</td>\n",
       "    </tr>\n",
       "    <tr>\n",
       "      <th>7038</th>\n",
       "      <td>21.15</td>\n",
       "      <td>1419.40</td>\n",
       "      <td>72</td>\n",
       "      <td>19.713889</td>\n",
       "      <td>No</td>\n",
       "    </tr>\n",
       "    <tr>\n",
       "      <th>7039</th>\n",
       "      <td>84.80</td>\n",
       "      <td>1990.50</td>\n",
       "      <td>24</td>\n",
       "      <td>82.937500</td>\n",
       "      <td>No</td>\n",
       "    </tr>\n",
       "    <tr>\n",
       "      <th>7040</th>\n",
       "      <td>103.20</td>\n",
       "      <td>7362.90</td>\n",
       "      <td>72</td>\n",
       "      <td>102.262500</td>\n",
       "      <td>No</td>\n",
       "    </tr>\n",
       "    <tr>\n",
       "      <th>7041</th>\n",
       "      <td>29.60</td>\n",
       "      <td>346.45</td>\n",
       "      <td>11</td>\n",
       "      <td>31.495455</td>\n",
       "      <td>No</td>\n",
       "    </tr>\n",
       "    <tr>\n",
       "      <th>7042</th>\n",
       "      <td>105.65</td>\n",
       "      <td>6844.50</td>\n",
       "      <td>66</td>\n",
       "      <td>103.704545</td>\n",
       "      <td>No</td>\n",
       "    </tr>\n",
       "  </tbody>\n",
       "</table>\n",
       "<p>7043 rows × 5 columns</p>\n",
       "</div>"
      ],
      "text/plain": [
       "      Monthly Charges  Total Charges  Tenure Months  Avg Charges Churn Label\n",
       "0               53.85         108.15              2    54.075000         Yes\n",
       "1               70.70         151.65              2    75.825000         Yes\n",
       "2               99.65         820.50              8   102.562500         Yes\n",
       "3              104.80        3046.05             28   108.787500         Yes\n",
       "4              103.70        5036.30             49   102.781633         Yes\n",
       "...               ...            ...            ...          ...         ...\n",
       "7038            21.15        1419.40             72    19.713889          No\n",
       "7039            84.80        1990.50             24    82.937500          No\n",
       "7040           103.20        7362.90             72   102.262500          No\n",
       "7041            29.60         346.45             11    31.495455          No\n",
       "7042           105.65        6844.50             66   103.704545          No\n",
       "\n",
       "[7043 rows x 5 columns]"
      ]
     },
     "execution_count": 14,
     "metadata": {},
     "output_type": "execute_result"
    }
   ],
   "source": [
    "monetary_var = ['Monthly Charges','Total Charges','Tenure Months','Avg Charges','Churn Label']\n",
    "# df_telco[df_telco['Tenure Months']==0][monetary_var]\n",
    "df_telco[monetary_var]"
   ]
  },
  {
   "cell_type": "code",
   "execution_count": 15,
   "id": "fb98323b-6fb3-4652-bdd7-0611d2343e5d",
   "metadata": {},
   "outputs": [],
   "source": [
    "df_telco['Charge drop'] = np.where(df_telco['Monthly Charges'] < df_telco['Avg Charges'],1,0)\n",
    "df_telco['Charge diff'] = df_telco['Monthly Charges'] - df_telco['Avg Charges']\n",
    "\n",
    "monetary_var = monetary_var + ['Charge drop','Charge diff']"
   ]
  },
  {
   "cell_type": "code",
   "execution_count": 16,
   "id": "5b42db01-8922-4de3-808a-e7a672084d8f",
   "metadata": {},
   "outputs": [
    {
     "data": {
      "text/plain": [
       "Charge drop\n",
       "0    3839\n",
       "1    3204\n",
       "Name: count, dtype: int64"
      ]
     },
     "execution_count": 16,
     "metadata": {},
     "output_type": "execute_result"
    }
   ],
   "source": [
    "df_telco['Charge drop'].value_counts()"
   ]
  },
  {
   "cell_type": "code",
   "execution_count": 17,
   "id": "6d3c5a60-7969-4e78-aec8-25161f1c42f7",
   "metadata": {},
   "outputs": [
    {
     "data": {
      "text/html": [
       "<div>\n",
       "<style scoped>\n",
       "    .dataframe tbody tr th:only-of-type {\n",
       "        vertical-align: middle;\n",
       "    }\n",
       "\n",
       "    .dataframe tbody tr th {\n",
       "        vertical-align: top;\n",
       "    }\n",
       "\n",
       "    .dataframe thead th {\n",
       "        text-align: right;\n",
       "    }\n",
       "</style>\n",
       "<table border=\"1\" class=\"dataframe\">\n",
       "  <thead>\n",
       "    <tr style=\"text-align: right;\">\n",
       "      <th>Churn Label</th>\n",
       "      <th>No</th>\n",
       "      <th>Yes</th>\n",
       "    </tr>\n",
       "    <tr>\n",
       "      <th>Charge drop</th>\n",
       "      <th></th>\n",
       "      <th></th>\n",
       "    </tr>\n",
       "  </thead>\n",
       "  <tbody>\n",
       "    <tr>\n",
       "      <th>0</th>\n",
       "      <td>0.705392</td>\n",
       "      <td>0.294608</td>\n",
       "    </tr>\n",
       "    <tr>\n",
       "      <th>1</th>\n",
       "      <td>0.769663</td>\n",
       "      <td>0.230337</td>\n",
       "    </tr>\n",
       "  </tbody>\n",
       "</table>\n",
       "</div>"
      ],
      "text/plain": [
       "Churn Label        No       Yes\n",
       "Charge drop                    \n",
       "0            0.705392  0.294608\n",
       "1            0.769663  0.230337"
      ]
     },
     "execution_count": 17,
     "metadata": {},
     "output_type": "execute_result"
    }
   ],
   "source": [
    "pd.crosstab(df_telco['Charge drop'],df_telco['Churn Label'],normalize = 0 )"
   ]
  },
  {
   "cell_type": "code",
   "execution_count": 18,
   "id": "a3a20eb8-5e37-477e-8960-eb1963c5ec9a",
   "metadata": {},
   "outputs": [
    {
     "data": {
      "text/plain": [
       "<Axes: xlabel='Charge diff', ylabel='Count'>"
      ]
     },
     "execution_count": 18,
     "metadata": {},
     "output_type": "execute_result"
    },
    {
     "data": {
      "image/png": "[encoded data removed]",
      "text/plain": [
       "<Figure size 640x480 with 1 Axes>"
      ]
     },
     "metadata": {},
     "output_type": "display_data"
    }
   ],
   "source": [
    "sns.histplot(df_telco['Charge diff'])"
   ]
  },
  {
   "cell_type": "code",
   "execution_count": 19,
   "id": "8a244d64-10a6-4ec1-a72b-d5f3b3e46b08",
   "metadata": {},
   "outputs": [
    {
     "data": {
      "text/html": [
       "<div>\n",
       "<style scoped>\n",
       "    .dataframe tbody tr th:only-of-type {\n",
       "        vertical-align: middle;\n",
       "    }\n",
       "\n",
       "    .dataframe tbody tr th {\n",
       "        vertical-align: top;\n",
       "    }\n",
       "\n",
       "    .dataframe thead th {\n",
       "        text-align: right;\n",
       "    }\n",
       "</style>\n",
       "<table border=\"1\" class=\"dataframe\">\n",
       "  <thead>\n",
       "    <tr style=\"text-align: right;\">\n",
       "      <th></th>\n",
       "      <th>Monthly Charges</th>\n",
       "      <th>Total Charges</th>\n",
       "      <th>Tenure Months</th>\n",
       "      <th>Avg Charges</th>\n",
       "      <th>Churn Label</th>\n",
       "      <th>Charge drop</th>\n",
       "      <th>Charge diff</th>\n",
       "    </tr>\n",
       "  </thead>\n",
       "  <tbody>\n",
       "    <tr>\n",
       "      <th>40</th>\n",
       "      <td>104.40</td>\n",
       "      <td>242.80</td>\n",
       "      <td>2</td>\n",
       "      <td>121.400000</td>\n",
       "      <td>Yes</td>\n",
       "      <td>1</td>\n",
       "      <td>-17.000000</td>\n",
       "    </tr>\n",
       "    <tr>\n",
       "      <th>174</th>\n",
       "      <td>75.10</td>\n",
       "      <td>270.70</td>\n",
       "      <td>3</td>\n",
       "      <td>90.233333</td>\n",
       "      <td>Yes</td>\n",
       "      <td>1</td>\n",
       "      <td>-15.133333</td>\n",
       "    </tr>\n",
       "    <tr>\n",
       "      <th>651</th>\n",
       "      <td>75.70</td>\n",
       "      <td>189.20</td>\n",
       "      <td>2</td>\n",
       "      <td>94.600000</td>\n",
       "      <td>Yes</td>\n",
       "      <td>1</td>\n",
       "      <td>-18.900000</td>\n",
       "    </tr>\n",
       "    <tr>\n",
       "      <th>1323</th>\n",
       "      <td>79.60</td>\n",
       "      <td>195.05</td>\n",
       "      <td>2</td>\n",
       "      <td>97.525000</td>\n",
       "      <td>Yes</td>\n",
       "      <td>1</td>\n",
       "      <td>-17.925000</td>\n",
       "    </tr>\n",
       "    <tr>\n",
       "      <th>2798</th>\n",
       "      <td>80.15</td>\n",
       "      <td>194.55</td>\n",
       "      <td>2</td>\n",
       "      <td>97.275000</td>\n",
       "      <td>No</td>\n",
       "      <td>1</td>\n",
       "      <td>-17.125000</td>\n",
       "    </tr>\n",
       "    <tr>\n",
       "      <th>4198</th>\n",
       "      <td>94.85</td>\n",
       "      <td>335.75</td>\n",
       "      <td>3</td>\n",
       "      <td>111.916667</td>\n",
       "      <td>No</td>\n",
       "      <td>1</td>\n",
       "      <td>-17.066667</td>\n",
       "    </tr>\n",
       "  </tbody>\n",
       "</table>\n",
       "</div>"
      ],
      "text/plain": [
       "      Monthly Charges  Total Charges  Tenure Months  Avg Charges Churn Label  \\\n",
       "40             104.40         242.80              2   121.400000         Yes   \n",
       "174             75.10         270.70              3    90.233333         Yes   \n",
       "651             75.70         189.20              2    94.600000         Yes   \n",
       "1323            79.60         195.05              2    97.525000         Yes   \n",
       "2798            80.15         194.55              2    97.275000          No   \n",
       "4198            94.85         335.75              3   111.916667          No   \n",
       "\n",
       "      Charge drop  Charge diff  \n",
       "40              1   -17.000000  \n",
       "174             1   -15.133333  \n",
       "651             1   -18.900000  \n",
       "1323            1   -17.925000  \n",
       "2798            1   -17.125000  \n",
       "4198            1   -17.066667  "
      ]
     },
     "execution_count": 19,
     "metadata": {},
     "output_type": "execute_result"
    }
   ],
   "source": [
    "df_telco[df_telco['Charge diff']<-15][monetary_var]"
   ]
  },
  {
   "cell_type": "markdown",
   "id": "19059dab-7d6b-4ff2-b6a1-a387e3dfd3bd",
   "metadata": {},
   "source": [
    "# Save Data"
   ]
  },
  {
   "cell_type": "code",
   "execution_count": 20,
   "id": "617b2ae1-92e6-4f1c-ba3e-a37402e14bed",
   "metadata": {},
   "outputs": [],
   "source": [
    "df_telco.to_csv('Telco_customer_churn_clean.csv', index = False)"
   ]
  }
 ],
 "metadata": {
  "kernelspec": {
   "display_name": "Python 3 (ipykernel)",
   "language": "python",
   "name": "python3"
  },
  "language_info": {
   "codemirror_mode": {
    "name": "ipython",
    "version": 3
   },
   "file_extension": ".py",
   "mimetype": "text/x-python",
   "name": "python",
   "nbconvert_exporter": "python",
   "pygments_lexer": "ipython3",
   "version": "3.12.7"
  }
 },
 "nbformat": 4,
 "nbformat_minor": 5
}
