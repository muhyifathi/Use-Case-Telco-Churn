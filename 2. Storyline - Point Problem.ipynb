{
 "cells": [
  {
   "cell_type": "markdown",
   "id": "f479518f-3da6-4f84-9361-c4a19e1f120e",
   "metadata": {},
   "source": [
    "Why should We Breakdown this\n",
    "1. Understanding the problem is half of the solution\n",
    "1. Understand the problem deeper\n",
    "1. help to make strategic decision in preventing customer churn\n",
    "1. estimate cost accurately and efficiently"
   ]
  },
  {
   "cell_type": "markdown",
   "id": "f55e782c-94ea-4056-95e4-8aa0d7b8c3fc",
   "metadata": {},
   "source": [
    "# Data"
   ]
  },
  {
   "cell_type": "code",
   "execution_count": 1,
   "id": "ff1cb19e-27f2-4fb4-88a9-c98a0b23e84f",
   "metadata": {},
   "outputs": [],
   "source": [
    "import pandas as pd\n",
    "import numpy as np\n",
    "import seaborn as sns\n",
    "import matplotlib.pyplot as plt"
   ]
  },
  {
   "cell_type": "code",
   "execution_count": 2,
   "id": "42fcac15-8af5-42b1-bfbe-92ba5d2307c4",
   "metadata": {},
   "outputs": [],
   "source": [
    "df_telco = df_telco = pd.read_csv('Telco_customer_churn_clean.csv')"
   ]
  },
  {
   "cell_type": "markdown",
   "id": "dd9579af-cad4-4ba0-b7b7-953199b75957",
   "metadata": {},
   "source": [
    "# Identify Main Problem"
   ]
  },
  {
   "cell_type": "markdown",
   "id": "07c4fa92-03b7-419e-8a5c-4724c1290b20",
   "metadata": {},
   "source": [
    "## 1. High Churn Rate (above 20%)"
   ]
  },
  {
   "cell_type": "code",
   "execution_count": 3,
   "id": "83870bd9-2946-4383-a37c-cdbc934d344f",
   "metadata": {},
   "outputs": [
    {
     "data": {
      "text/plain": [
       "Churn Label\n",
       "No     5174\n",
       "Yes    1869\n",
       "Name: count, dtype: int64"
      ]
     },
     "execution_count": 3,
     "metadata": {},
     "output_type": "execute_result"
    }
   ],
   "source": [
    "df_telco['Churn Label'].value_counts()"
   ]
  },
  {
   "cell_type": "code",
   "execution_count": 4,
   "id": "b0f85431-ea52-48a5-9016-15cad38eac66",
   "metadata": {},
   "outputs": [
    {
     "data": {
      "text/plain": [
       "Churn Label\n",
       "No     0.73463\n",
       "Yes    0.26537\n",
       "Name: count, dtype: float64"
      ]
     },
     "execution_count": 4,
     "metadata": {},
     "output_type": "execute_result"
    }
   ],
   "source": [
    "df_telco['Churn Label'].value_counts()/df_telco.shape[0]"
   ]
  },
  {
   "cell_type": "markdown",
   "id": "f270856f-1a1a-4281-b364-6f9b6608b9ad",
   "metadata": {},
   "source": [
    "PROBLEM 1 : 26.5% churn rate"
   ]
  },
  {
   "cell_type": "markdown",
   "id": "27c38018-28d1-4cf8-8369-bbea95138c30",
   "metadata": {},
   "source": [
    "## 2. Revenue Loss 30%"
   ]
  },
  {
   "cell_type": "code",
   "execution_count": 5,
   "id": "ce18e63d-ee81-4116-81d1-229f6af788ed",
   "metadata": {},
   "outputs": [],
   "source": [
    "monet_value = 'Monthly Charges'\n",
    "total_monthly_charges = df_telco[monet_value].sum()\n",
    "monthly_charges_loss = sum(df_telco[monet_value] * df_telco['Churn Value'])\n",
    "monthly_charges_keep = total_monthly_charges - monthly_charges_loss"
   ]
  },
  {
   "cell_type": "code",
   "execution_count": 6,
   "id": "14616d16-98f8-45ea-93f7-9d3d4bfd1bee",
   "metadata": {},
   "outputs": [
    {
     "data": {
      "text/plain": [
       "{'monthly charges all': 456116.6,\n",
       " 'monthly charges keep': 316985.75,\n",
       " 'monthly charges keep (%)': 69.5,\n",
       " 'monthly charges loss': 139130.85,\n",
       " 'monthly charges loss (%)': 30.5}"
      ]
     },
     "execution_count": 6,
     "metadata": {},
     "output_type": "execute_result"
    }
   ],
   "source": [
    "charges = {\n",
    "    'monthly charges all':total_monthly_charges,\n",
    "    'monthly charges keep':monthly_charges_keep,\n",
    "    'monthly charges keep (%)':round(100*monthly_charges_keep/total_monthly_charges,2),\n",
    "    'monthly charges loss':monthly_charges_loss,\n",
    "    'monthly charges loss (%)':round(100*monthly_charges_loss/total_monthly_charges,2),\n",
    "}\n",
    "charges"
   ]
  },
  {
   "cell_type": "markdown",
   "id": "56b4715a-3334-4b34-8ff6-84571bd3587a",
   "metadata": {},
   "source": [
    "PROBLEM 2 : 30% revenue loss"
   ]
  },
  {
   "cell_type": "markdown",
   "id": "28bed731-ed46-42ff-8f8b-3c873979d3a1",
   "metadata": {},
   "source": [
    "## 3. Churn Reason"
   ]
  },
  {
   "cell_type": "code",
   "execution_count": 7,
   "id": "d6de2e58-95a3-4e8b-9e7c-69ff2cda1e60",
   "metadata": {},
   "outputs": [
    {
     "data": {
      "text/html": [
       "<div>\n",
       "<style scoped>\n",
       "    .dataframe tbody tr th:only-of-type {\n",
       "        vertical-align: middle;\n",
       "    }\n",
       "\n",
       "    .dataframe tbody tr th {\n",
       "        vertical-align: top;\n",
       "    }\n",
       "\n",
       "    .dataframe thead th {\n",
       "        text-align: right;\n",
       "    }\n",
       "</style>\n",
       "<table border=\"1\" class=\"dataframe\">\n",
       "  <thead>\n",
       "    <tr style=\"text-align: right;\">\n",
       "      <th></th>\n",
       "      <th>Churn Reason</th>\n",
       "      <th>count</th>\n",
       "      <th>Monthly Charges</th>\n",
       "      <th>Monthly Charges (%)</th>\n",
       "    </tr>\n",
       "  </thead>\n",
       "  <tbody>\n",
       "    <tr>\n",
       "      <th>0</th>\n",
       "      <td>Attitude of support person</td>\n",
       "      <td>192</td>\n",
       "      <td>13980.85</td>\n",
       "      <td>10.048706</td>\n",
       "    </tr>\n",
       "    <tr>\n",
       "      <th>1</th>\n",
       "      <td>Competitor offered higher download speeds</td>\n",
       "      <td>189</td>\n",
       "      <td>14144.60</td>\n",
       "      <td>10.166401</td>\n",
       "    </tr>\n",
       "    <tr>\n",
       "      <th>2</th>\n",
       "      <td>Competitor offered more data</td>\n",
       "      <td>162</td>\n",
       "      <td>12351.75</td>\n",
       "      <td>8.877794</td>\n",
       "    </tr>\n",
       "    <tr>\n",
       "      <th>3</th>\n",
       "      <td>Don't know</td>\n",
       "      <td>154</td>\n",
       "      <td>11099.05</td>\n",
       "      <td>7.977418</td>\n",
       "    </tr>\n",
       "    <tr>\n",
       "      <th>4</th>\n",
       "      <td>Competitor made better offer</td>\n",
       "      <td>140</td>\n",
       "      <td>10672.10</td>\n",
       "      <td>7.670549</td>\n",
       "    </tr>\n",
       "    <tr>\n",
       "      <th>5</th>\n",
       "      <td>Attitude of service provider</td>\n",
       "      <td>135</td>\n",
       "      <td>10399.30</td>\n",
       "      <td>7.474475</td>\n",
       "    </tr>\n",
       "    <tr>\n",
       "      <th>6</th>\n",
       "      <td>Competitor had better devices</td>\n",
       "      <td>130</td>\n",
       "      <td>9432.35</td>\n",
       "      <td>6.779481</td>\n",
       "    </tr>\n",
       "    <tr>\n",
       "      <th>7</th>\n",
       "      <td>Network reliability</td>\n",
       "      <td>103</td>\n",
       "      <td>7497.55</td>\n",
       "      <td>5.388848</td>\n",
       "    </tr>\n",
       "    <tr>\n",
       "      <th>8</th>\n",
       "      <td>Product dissatisfaction</td>\n",
       "      <td>102</td>\n",
       "      <td>7528.65</td>\n",
       "      <td>5.411201</td>\n",
       "    </tr>\n",
       "    <tr>\n",
       "      <th>9</th>\n",
       "      <td>Price too high</td>\n",
       "      <td>98</td>\n",
       "      <td>7398.55</td>\n",
       "      <td>5.317692</td>\n",
       "    </tr>\n",
       "    <tr>\n",
       "      <th>10</th>\n",
       "      <td>Service dissatisfaction</td>\n",
       "      <td>89</td>\n",
       "      <td>6733.25</td>\n",
       "      <td>4.839509</td>\n",
       "    </tr>\n",
       "    <tr>\n",
       "      <th>11</th>\n",
       "      <td>Lack of self-service on Website</td>\n",
       "      <td>88</td>\n",
       "      <td>6349.65</td>\n",
       "      <td>4.563797</td>\n",
       "    </tr>\n",
       "    <tr>\n",
       "      <th>12</th>\n",
       "      <td>Extra data charges</td>\n",
       "      <td>57</td>\n",
       "      <td>4543.40</td>\n",
       "      <td>3.265559</td>\n",
       "    </tr>\n",
       "    <tr>\n",
       "      <th>13</th>\n",
       "      <td>Moved</td>\n",
       "      <td>53</td>\n",
       "      <td>4131.00</td>\n",
       "      <td>2.969147</td>\n",
       "    </tr>\n",
       "    <tr>\n",
       "      <th>14</th>\n",
       "      <td>Limited range of services</td>\n",
       "      <td>44</td>\n",
       "      <td>3025.25</td>\n",
       "      <td>2.174392</td>\n",
       "    </tr>\n",
       "    <tr>\n",
       "      <th>15</th>\n",
       "      <td>Long distance charges</td>\n",
       "      <td>44</td>\n",
       "      <td>3447.90</td>\n",
       "      <td>2.478171</td>\n",
       "    </tr>\n",
       "    <tr>\n",
       "      <th>16</th>\n",
       "      <td>Lack of affordable download/upload speed</td>\n",
       "      <td>44</td>\n",
       "      <td>3185.05</td>\n",
       "      <td>2.289248</td>\n",
       "    </tr>\n",
       "    <tr>\n",
       "      <th>17</th>\n",
       "      <td>Poor expertise of phone support</td>\n",
       "      <td>20</td>\n",
       "      <td>1443.30</td>\n",
       "      <td>1.037369</td>\n",
       "    </tr>\n",
       "    <tr>\n",
       "      <th>18</th>\n",
       "      <td>Poor expertise of online support</td>\n",
       "      <td>19</td>\n",
       "      <td>1356.65</td>\n",
       "      <td>0.975089</td>\n",
       "    </tr>\n",
       "    <tr>\n",
       "      <th>19</th>\n",
       "      <td>Deceased</td>\n",
       "      <td>6</td>\n",
       "      <td>410.65</td>\n",
       "      <td>0.295154</td>\n",
       "    </tr>\n",
       "  </tbody>\n",
       "</table>\n",
       "</div>"
      ],
      "text/plain": [
       "                                 Churn Reason  count  Monthly Charges  \\\n",
       "0                  Attitude of support person    192         13980.85   \n",
       "1   Competitor offered higher download speeds    189         14144.60   \n",
       "2                Competitor offered more data    162         12351.75   \n",
       "3                                  Don't know    154         11099.05   \n",
       "4                Competitor made better offer    140         10672.10   \n",
       "5                Attitude of service provider    135         10399.30   \n",
       "6               Competitor had better devices    130          9432.35   \n",
       "7                         Network reliability    103          7497.55   \n",
       "8                     Product dissatisfaction    102          7528.65   \n",
       "9                              Price too high     98          7398.55   \n",
       "10                    Service dissatisfaction     89          6733.25   \n",
       "11            Lack of self-service on Website     88          6349.65   \n",
       "12                         Extra data charges     57          4543.40   \n",
       "13                                      Moved     53          4131.00   \n",
       "14                  Limited range of services     44          3025.25   \n",
       "15                      Long distance charges     44          3447.90   \n",
       "16   Lack of affordable download/upload speed     44          3185.05   \n",
       "17            Poor expertise of phone support     20          1443.30   \n",
       "18           Poor expertise of online support     19          1356.65   \n",
       "19                                   Deceased      6           410.65   \n",
       "\n",
       "    Monthly Charges (%)  \n",
       "0             10.048706  \n",
       "1             10.166401  \n",
       "2              8.877794  \n",
       "3              7.977418  \n",
       "4              7.670549  \n",
       "5              7.474475  \n",
       "6              6.779481  \n",
       "7              5.388848  \n",
       "8              5.411201  \n",
       "9              5.317692  \n",
       "10             4.839509  \n",
       "11             4.563797  \n",
       "12             3.265559  \n",
       "13             2.969147  \n",
       "14             2.174392  \n",
       "15             2.478171  \n",
       "16             2.289248  \n",
       "17             1.037369  \n",
       "18             0.975089  \n",
       "19             0.295154  "
      ]
     },
     "execution_count": 7,
     "metadata": {},
     "output_type": "execute_result"
    }
   ],
   "source": [
    "churn_reason_count = df_telco['Churn Reason'].value_counts().reset_index()\n",
    "churn_reason_loss = df_telco[['Churn Reason','Monthly Charges']].groupby('Churn Reason').sum().sort_values('Monthly Charges', ascending = False).reset_index()\n",
    "churn_reason_loss_pct = (df_telco[['Churn Reason','Monthly Charges']].groupby('Churn Reason').sum().sort_values('Monthly Charges', ascending = False)*100/df_telco[['Churn Reason','Monthly Charges']].groupby('Churn Reason').sum().sort_values('Monthly Charges', ascending = False).sum()).reset_index()\n",
    "churn_reason_loss_pct = churn_reason_loss_pct.rename(columns = {'Monthly Charges':'Monthly Charges (%)'})\n",
    "churn_reason_summary = pd.merge(pd.merge(churn_reason_count, churn_reason_loss),churn_reason_loss_pct)\n",
    "churn_reason_summary"
   ]
  },
  {
   "cell_type": "code",
   "execution_count": 8,
   "id": "76412320-d1bc-431c-856a-f1d8c62b3428",
   "metadata": {},
   "outputs": [],
   "source": [
    "mapping_reason = {\n",
    "    'Attitude of support person':'Support/Attitude Issue',\n",
    "    'Attitude of service provider':'Support/Attitude Issue',\n",
    "    'Poor expertise of phone support':'Support/Attitude Issue',\n",
    "    'Poor expertise of online support':'Support/Attitude Issue',\n",
    "    'Network reliability':'Stack Issue',\n",
    "    'Product dissatisfaction':'Stack Issue',\n",
    "    'Service dissatisfaction':'Stack Issue',\n",
    "    'Limited range of services':'Stack Issue',\n",
    "    'Lack of affordable download/upload speed':'Stack Issue',\n",
    "    'Extra data charges':'Stack Issue',\n",
    "    'Competitor offered more data':'Competitor',\n",
    "    'Competitor made better offer':'Competitor',\n",
    "    'Competitor had better devices':'Competitor',\n",
    "    'Competitor offered higher download speeds':'Competitor',\n",
    "    'Price too high':'Price',\n",
    "    'Long distance charges':'Price',\n",
    "    'Lack of self-service on Website':'Lack of self-service on Website',\n",
    "    'Moved':'Moved',\n",
    "    \"Don't know\":'Unknown',\n",
    "    'Deceased':'Deceased'\n",
    "}\n",
    "churn_reason_summary['Churn Reason Mapped'] = churn_reason_summary['Churn Reason'].map(lambda x: mapping_reason.get(x, 'other')) \n",
    "churn_reason_summary_mapped = churn_reason_summary[['Churn Reason Mapped','count','Monthly Charges','Monthly Charges (%)']].groupby('Churn Reason Mapped').sum().reset_index().sort_values('count', ascending = False)"
   ]
  },
  {
   "cell_type": "code",
   "execution_count": 9,
   "id": "58ad37dd-1c81-47e0-b9d3-c5bb8a7e13c3",
   "metadata": {},
   "outputs": [],
   "source": [
    "churn_reason_summary_mapped.to_excel('churn_reason_summary_mapped.xlsx')"
   ]
  },
  {
   "cell_type": "markdown",
   "id": "bf135fa8-b8a9-4a38-8600-44856b95a881",
   "metadata": {},
   "source": [
    "# Breaking Down Main Problem into some Point Problem"
   ]
  },
  {
   "cell_type": "markdown",
   "id": "f27deeb7-7c29-4b13-b884-426a5b374600",
   "metadata": {},
   "source": [
    "## 1. User without additional internet service"
   ]
  },
  {
   "cell_type": "markdown",
   "id": "5a1cca1b-e9d6-4ae8-81f6-2e8f5b4b1582",
   "metadata": {},
   "source": [
    "### Problem Identification"
   ]
  },
  {
   "cell_type": "code",
   "execution_count": 10,
   "id": "a1429e41-04f7-407b-8738-f695d8cc2d2c",
   "metadata": {},
   "outputs": [],
   "source": [
    "def cat_add_on_service(security, backup, protection, support):\n",
    "    if \"Yes\" in [security, backup, protection, support]:\n",
    "        return 1\n",
    "    else:\n",
    "        return 0\n",
    "\n",
    "df_telco['Additional Internet Service t'] = df_telco.apply(lambda x: cat_add_on_service(\n",
    "    x['Online Security'],\n",
    "    x['Online Backup'],\n",
    "    x['Device Protection'],\n",
    "    x['Tech Support']\n",
    "), axis = 1)"
   ]
  },
  {
   "cell_type": "code",
   "execution_count": 11,
   "id": "f3b1f932-7ee8-4289-b59d-07d965824258",
   "metadata": {},
   "outputs": [],
   "source": [
    "df_telco_internet = df_telco[df_telco['Internet Service']!='No']"
   ]
  },
  {
   "cell_type": "code",
   "execution_count": 12,
   "id": "ad01bdbd-3da1-40af-a166-16dae811386d",
   "metadata": {},
   "outputs": [
    {
     "data": {
      "text/plain": [
       "Additional Internet Service t\n",
       "1    4250\n",
       "0    1267\n",
       "Name: count, dtype: int64"
      ]
     },
     "execution_count": 12,
     "metadata": {},
     "output_type": "execute_result"
    }
   ],
   "source": [
    "df_telco_internet['Additional Internet Service t'].value_counts()"
   ]
  },
  {
   "cell_type": "code",
   "execution_count": 13,
   "id": "0175056d-40e8-4f8e-87ee-ac4a15a9fc19",
   "metadata": {},
   "outputs": [
    {
     "data": {
      "text/plain": [
       "Additional Internet Service t\n",
       "1    0.770346\n",
       "0    0.229654\n",
       "Name: count, dtype: float64"
      ]
     },
     "execution_count": 13,
     "metadata": {},
     "output_type": "execute_result"
    }
   ],
   "source": [
    "df_telco_internet['Additional Internet Service t'].value_counts()/df_telco_internet.shape[0]"
   ]
  },
  {
   "cell_type": "code",
   "execution_count": 14,
   "id": "4817f297-a724-4acc-851f-e4049220137b",
   "metadata": {},
   "outputs": [
    {
     "data": {
      "text/html": [
       "<div>\n",
       "<style scoped>\n",
       "    .dataframe tbody tr th:only-of-type {\n",
       "        vertical-align: middle;\n",
       "    }\n",
       "\n",
       "    .dataframe tbody tr th {\n",
       "        vertical-align: top;\n",
       "    }\n",
       "\n",
       "    .dataframe thead th {\n",
       "        text-align: right;\n",
       "    }\n",
       "</style>\n",
       "<table border=\"1\" class=\"dataframe\">\n",
       "  <thead>\n",
       "    <tr style=\"text-align: right;\">\n",
       "      <th>Churn Label</th>\n",
       "      <th>No</th>\n",
       "      <th>Yes</th>\n",
       "    </tr>\n",
       "    <tr>\n",
       "      <th>Additional Internet Service t</th>\n",
       "      <th></th>\n",
       "      <th></th>\n",
       "    </tr>\n",
       "  </thead>\n",
       "  <tbody>\n",
       "    <tr>\n",
       "      <th>0</th>\n",
       "      <td>0.433307</td>\n",
       "      <td>0.566693</td>\n",
       "    </tr>\n",
       "    <tr>\n",
       "      <th>1</th>\n",
       "      <td>0.755765</td>\n",
       "      <td>0.244235</td>\n",
       "    </tr>\n",
       "  </tbody>\n",
       "</table>\n",
       "</div>"
      ],
      "text/plain": [
       "Churn Label                          No       Yes\n",
       "Additional Internet Service t                    \n",
       "0                              0.433307  0.566693\n",
       "1                              0.755765  0.244235"
      ]
     },
     "execution_count": 14,
     "metadata": {},
     "output_type": "execute_result"
    }
   ],
   "source": [
    "pd.crosstab(df_telco_internet['Additional Internet Service t'],df_telco_internet['Churn Label'], normalize = 0 )"
   ]
  },
  {
   "cell_type": "markdown",
   "id": "393c677a-62d2-4fd8-885e-833efe8b44e0",
   "metadata": {},
   "source": [
    "PROBLEM 3 : half of user without additional internet service gone"
   ]
  },
  {
   "cell_type": "markdown",
   "id": "d2088329-7023-4ad1-b7c1-3fc495837b2b",
   "metadata": {},
   "source": [
    "### Further Analysis"
   ]
  },
  {
   "cell_type": "code",
   "execution_count": 15,
   "id": "a6f9fd19-abca-4859-8a3b-8454812fd2a9",
   "metadata": {},
   "outputs": [
    {
     "data": {
      "text/html": [
       "<div>\n",
       "<style scoped>\n",
       "    .dataframe tbody tr th:only-of-type {\n",
       "        vertical-align: middle;\n",
       "    }\n",
       "\n",
       "    .dataframe tbody tr th {\n",
       "        vertical-align: top;\n",
       "    }\n",
       "\n",
       "    .dataframe thead th {\n",
       "        text-align: right;\n",
       "    }\n",
       "</style>\n",
       "<table border=\"1\" class=\"dataframe\">\n",
       "  <thead>\n",
       "    <tr style=\"text-align: right;\">\n",
       "      <th>Churn Label</th>\n",
       "      <th>No</th>\n",
       "      <th>Yes</th>\n",
       "    </tr>\n",
       "    <tr>\n",
       "      <th>Additional Internet Service t</th>\n",
       "      <th></th>\n",
       "      <th></th>\n",
       "    </tr>\n",
       "  </thead>\n",
       "  <tbody>\n",
       "    <tr>\n",
       "      <th>0</th>\n",
       "      <td>549</td>\n",
       "      <td>718</td>\n",
       "    </tr>\n",
       "    <tr>\n",
       "      <th>1</th>\n",
       "      <td>3212</td>\n",
       "      <td>1038</td>\n",
       "    </tr>\n",
       "  </tbody>\n",
       "</table>\n",
       "</div>"
      ],
      "text/plain": [
       "Churn Label                      No   Yes\n",
       "Additional Internet Service t            \n",
       "0                               549   718\n",
       "1                              3212  1038"
      ]
     },
     "execution_count": 15,
     "metadata": {},
     "output_type": "execute_result"
    }
   ],
   "source": [
    "pd.crosstab(df_telco_internet['Additional Internet Service t'],df_telco_internet['Churn Label'])"
   ]
  },
  {
   "cell_type": "code",
   "execution_count": 16,
   "id": "4b03d90b-c18a-43be-b9b5-92114a87e4ff",
   "metadata": {},
   "outputs": [],
   "source": [
    "non_additional_inet_rev = sum((1-df_telco_internet['Additional Internet Service t'])*df_telco_internet['Churn Value']*df_telco_internet['Monthly Charges'])\n",
    "non_additional_inet_rev_pct = 100*non_additional_inet_rev/total_monthly_charges"
   ]
  },
  {
   "cell_type": "code",
   "execution_count": 17,
   "id": "26a9605f-4d15-4f09-bad4-db01440b5959",
   "metadata": {},
   "outputs": [
    {
     "data": {
      "text/plain": [
       "{'non additional inter rev': 50806.05,\n",
       " 'non additional inter rev(%)': 11.138829413356147}"
      ]
     },
     "execution_count": 17,
     "metadata": {},
     "output_type": "execute_result"
    }
   ],
   "source": [
    "non_additional_inet_monetary = {\n",
    "    'non additional inter rev':non_additional_inet_rev,\n",
    "    'non additional inter rev(%)':non_additional_inet_rev_pct\n",
    "}\n",
    "non_additional_inet_monetary"
   ]
  },
  {
   "cell_type": "markdown",
   "id": "f48c2027-fa97-41e5-a63f-589e9421d9ab",
   "metadata": {},
   "source": [
    "## 2. New Customer"
   ]
  },
  {
   "cell_type": "markdown",
   "id": "ac59472c-1312-4ba2-b35b-1366a1e9eab5",
   "metadata": {},
   "source": [
    "### Problem Identification"
   ]
  },
  {
   "cell_type": "code",
   "execution_count": 18,
   "id": "ec1cc42e-43df-4ec0-ad8e-55cbe8b51ce3",
   "metadata": {},
   "outputs": [],
   "source": [
    "def tenure_year(tenure_months):\n",
    "    if tenure_months < 12:\n",
    "        return 0\n",
    "    elif tenure_months < 24:\n",
    "        return 1\n",
    "    elif tenure_months < 36:\n",
    "        return 2\n",
    "    elif tenure_months < 48:\n",
    "        return 3\n",
    "    elif tenure_months < 60:\n",
    "        return 4\n",
    "    else:\n",
    "        return 5\n",
    "\n",
    "def newly_onboard(tenure_months):\n",
    "    if tenure_months <= 3:\n",
    "        return 1\n",
    "    else:\n",
    "        return 0"
   ]
  },
  {
   "cell_type": "code",
   "execution_count": 19,
   "id": "4918d4d1-c3df-4c14-b264-7b704b6bd8e2",
   "metadata": {},
   "outputs": [],
   "source": [
    "df_telco['Tenure Years'] = df_telco['Tenure Months'].apply(tenure_year)\n",
    "df_telco['newly onboard'] = df_telco['Tenure Months'].apply(newly_onboard)"
   ]
  },
  {
   "cell_type": "code",
   "execution_count": 20,
   "id": "80a7c632-7b4e-43f7-a351-b27f5c2a1ad8",
   "metadata": {},
   "outputs": [
    {
     "data": {
      "text/plain": [
       "Tenure Years\n",
       "0    2069\n",
       "5    1483\n",
       "1    1047\n",
       "2     876\n",
       "4     820\n",
       "3     748\n",
       "Name: count, dtype: int64"
      ]
     },
     "execution_count": 20,
     "metadata": {},
     "output_type": "execute_result"
    }
   ],
   "source": [
    "df_telco['Tenure Years'].value_counts()"
   ]
  },
  {
   "cell_type": "code",
   "execution_count": 21,
   "id": "a6a3ecad-415b-40cc-bde3-3410be33ed8f",
   "metadata": {},
   "outputs": [
    {
     "data": {
      "text/html": [
       "<div>\n",
       "<style scoped>\n",
       "    .dataframe tbody tr th:only-of-type {\n",
       "        vertical-align: middle;\n",
       "    }\n",
       "\n",
       "    .dataframe tbody tr th {\n",
       "        vertical-align: top;\n",
       "    }\n",
       "\n",
       "    .dataframe thead th {\n",
       "        text-align: right;\n",
       "    }\n",
       "</style>\n",
       "<table border=\"1\" class=\"dataframe\">\n",
       "  <thead>\n",
       "    <tr style=\"text-align: right;\">\n",
       "      <th>Churn Label</th>\n",
       "      <th>No</th>\n",
       "      <th>Yes</th>\n",
       "    </tr>\n",
       "    <tr>\n",
       "      <th>Tenure Years</th>\n",
       "      <th></th>\n",
       "      <th></th>\n",
       "    </tr>\n",
       "  </thead>\n",
       "  <tbody>\n",
       "    <tr>\n",
       "      <th>0</th>\n",
       "      <td>0.517158</td>\n",
       "      <td>0.482842</td>\n",
       "    </tr>\n",
       "    <tr>\n",
       "      <th>1</th>\n",
       "      <td>0.704871</td>\n",
       "      <td>0.295129</td>\n",
       "    </tr>\n",
       "    <tr>\n",
       "      <th>2</th>\n",
       "      <td>0.779680</td>\n",
       "      <td>0.220320</td>\n",
       "    </tr>\n",
       "    <tr>\n",
       "      <th>3</th>\n",
       "      <td>0.804813</td>\n",
       "      <td>0.195187</td>\n",
       "    </tr>\n",
       "    <tr>\n",
       "      <th>4</th>\n",
       "      <td>0.850000</td>\n",
       "      <td>0.150000</td>\n",
       "    </tr>\n",
       "    <tr>\n",
       "      <th>5</th>\n",
       "      <td>0.933243</td>\n",
       "      <td>0.066757</td>\n",
       "    </tr>\n",
       "  </tbody>\n",
       "</table>\n",
       "</div>"
      ],
      "text/plain": [
       "Churn Label         No       Yes\n",
       "Tenure Years                    \n",
       "0             0.517158  0.482842\n",
       "1             0.704871  0.295129\n",
       "2             0.779680  0.220320\n",
       "3             0.804813  0.195187\n",
       "4             0.850000  0.150000\n",
       "5             0.933243  0.066757"
      ]
     },
     "execution_count": 21,
     "metadata": {},
     "output_type": "execute_result"
    }
   ],
   "source": [
    "pd.crosstab(df_telco['Tenure Years'], df_telco['Churn Label'], normalize = 0)"
   ]
  },
  {
   "cell_type": "code",
   "execution_count": 22,
   "id": "b490a02f-cdef-4222-8d34-2403cc6ba6fe",
   "metadata": {},
   "outputs": [
    {
     "data": {
      "text/plain": [
       "newly onboard\n",
       "0    5981\n",
       "1    1062\n",
       "Name: count, dtype: int64"
      ]
     },
     "execution_count": 22,
     "metadata": {},
     "output_type": "execute_result"
    }
   ],
   "source": [
    "df_telco['newly onboard'].value_counts()"
   ]
  },
  {
   "cell_type": "code",
   "execution_count": 23,
   "id": "150a2b5e-3882-48b8-9647-5dec20189540",
   "metadata": {},
   "outputs": [
    {
     "data": {
      "text/html": [
       "<div>\n",
       "<style scoped>\n",
       "    .dataframe tbody tr th:only-of-type {\n",
       "        vertical-align: middle;\n",
       "    }\n",
       "\n",
       "    .dataframe tbody tr th {\n",
       "        vertical-align: top;\n",
       "    }\n",
       "\n",
       "    .dataframe thead th {\n",
       "        text-align: right;\n",
       "    }\n",
       "</style>\n",
       "<table border=\"1\" class=\"dataframe\">\n",
       "  <thead>\n",
       "    <tr style=\"text-align: right;\">\n",
       "      <th>Churn Label</th>\n",
       "      <th>No</th>\n",
       "      <th>Yes</th>\n",
       "    </tr>\n",
       "    <tr>\n",
       "      <th>newly onboard</th>\n",
       "      <th></th>\n",
       "      <th></th>\n",
       "    </tr>\n",
       "  </thead>\n",
       "  <tbody>\n",
       "    <tr>\n",
       "      <th>0</th>\n",
       "      <td>0.787327</td>\n",
       "      <td>0.212673</td>\n",
       "    </tr>\n",
       "    <tr>\n",
       "      <th>1</th>\n",
       "      <td>0.437853</td>\n",
       "      <td>0.562147</td>\n",
       "    </tr>\n",
       "  </tbody>\n",
       "</table>\n",
       "</div>"
      ],
      "text/plain": [
       "Churn Label          No       Yes\n",
       "newly onboard                    \n",
       "0              0.787327  0.212673\n",
       "1              0.437853  0.562147"
      ]
     },
     "execution_count": 23,
     "metadata": {},
     "output_type": "execute_result"
    }
   ],
   "source": [
    "pd.crosstab(df_telco['newly onboard'], df_telco['Churn Label'], normalize = 0)"
   ]
  },
  {
   "cell_type": "markdown",
   "id": "d1dc4689-5bd8-4b32-a7eb-db353892b6ae",
   "metadata": {},
   "source": [
    "PROBLEM 4 : half of new customer are tend to leave. It's also strongly related to contract type \"Month\""
   ]
  },
  {
   "cell_type": "markdown",
   "id": "685d0304-0282-461a-960c-da1c42116145",
   "metadata": {},
   "source": [
    "### Further Analysis"
   ]
  },
  {
   "cell_type": "code",
   "execution_count": 24,
   "id": "e2646a98-c643-4daa-8e56-5b94c40272f4",
   "metadata": {},
   "outputs": [
    {
     "data": {
      "text/html": [
       "<div>\n",
       "<style scoped>\n",
       "    .dataframe tbody tr th:only-of-type {\n",
       "        vertical-align: middle;\n",
       "    }\n",
       "\n",
       "    .dataframe tbody tr th {\n",
       "        vertical-align: top;\n",
       "    }\n",
       "\n",
       "    .dataframe thead th {\n",
       "        text-align: right;\n",
       "    }\n",
       "</style>\n",
       "<table border=\"1\" class=\"dataframe\">\n",
       "  <thead>\n",
       "    <tr style=\"text-align: right;\">\n",
       "      <th>Churn Label</th>\n",
       "      <th>No</th>\n",
       "      <th>Yes</th>\n",
       "    </tr>\n",
       "    <tr>\n",
       "      <th>Tenure Years</th>\n",
       "      <th></th>\n",
       "      <th></th>\n",
       "    </tr>\n",
       "  </thead>\n",
       "  <tbody>\n",
       "    <tr>\n",
       "      <th>0</th>\n",
       "      <td>1070</td>\n",
       "      <td>999</td>\n",
       "    </tr>\n",
       "    <tr>\n",
       "      <th>1</th>\n",
       "      <td>738</td>\n",
       "      <td>309</td>\n",
       "    </tr>\n",
       "    <tr>\n",
       "      <th>2</th>\n",
       "      <td>683</td>\n",
       "      <td>193</td>\n",
       "    </tr>\n",
       "    <tr>\n",
       "      <th>3</th>\n",
       "      <td>602</td>\n",
       "      <td>146</td>\n",
       "    </tr>\n",
       "    <tr>\n",
       "      <th>4</th>\n",
       "      <td>697</td>\n",
       "      <td>123</td>\n",
       "    </tr>\n",
       "    <tr>\n",
       "      <th>5</th>\n",
       "      <td>1384</td>\n",
       "      <td>99</td>\n",
       "    </tr>\n",
       "  </tbody>\n",
       "</table>\n",
       "</div>"
      ],
      "text/plain": [
       "Churn Label     No  Yes\n",
       "Tenure Years           \n",
       "0             1070  999\n",
       "1              738  309\n",
       "2              683  193\n",
       "3              602  146\n",
       "4              697  123\n",
       "5             1384   99"
      ]
     },
     "execution_count": 24,
     "metadata": {},
     "output_type": "execute_result"
    }
   ],
   "source": [
    "pd.crosstab(df_telco['Tenure Years'], df_telco['Churn Label'])"
   ]
  },
  {
   "cell_type": "code",
   "execution_count": 25,
   "id": "d3e247da-169c-4d0a-813f-92c97b70de99",
   "metadata": {},
   "outputs": [
    {
     "data": {
      "text/plain": [
       "{'first year cust revenue': 66022.3,\n",
       " 'first year cust revenue(%)': 14.474873310903398}"
      ]
     },
     "execution_count": 25,
     "metadata": {},
     "output_type": "execute_result"
    }
   ],
   "source": [
    "first_year_cust_rev = sum((df_telco['Tenure Years'] == 0)*df_telco['Churn Value']*df_telco['Monthly Charges'])\n",
    "first_year_cust_rev_pct = 100*first_year_cust_rev/total_monthly_charges\n",
    "first_year_cust_monetary = {\n",
    "    'first year cust revenue':first_year_cust_rev,\n",
    "    'first year cust revenue(%)':first_year_cust_rev_pct,\n",
    "}\n",
    "first_year_cust_monetary"
   ]
  },
  {
   "cell_type": "code",
   "execution_count": 26,
   "id": "120a7a6b-9f8a-49dc-89b7-59fbfb6e57d8",
   "metadata": {},
   "outputs": [
    {
     "data": {
      "text/html": [
       "<div>\n",
       "<style scoped>\n",
       "    .dataframe tbody tr th:only-of-type {\n",
       "        vertical-align: middle;\n",
       "    }\n",
       "\n",
       "    .dataframe tbody tr th {\n",
       "        vertical-align: top;\n",
       "    }\n",
       "\n",
       "    .dataframe thead th {\n",
       "        text-align: right;\n",
       "    }\n",
       "</style>\n",
       "<table border=\"1\" class=\"dataframe\">\n",
       "  <thead>\n",
       "    <tr style=\"text-align: right;\">\n",
       "      <th>Churn Label</th>\n",
       "      <th>No</th>\n",
       "      <th>Yes</th>\n",
       "    </tr>\n",
       "    <tr>\n",
       "      <th>newly onboard</th>\n",
       "      <th></th>\n",
       "      <th></th>\n",
       "    </tr>\n",
       "  </thead>\n",
       "  <tbody>\n",
       "    <tr>\n",
       "      <th>0</th>\n",
       "      <td>4709</td>\n",
       "      <td>1272</td>\n",
       "    </tr>\n",
       "    <tr>\n",
       "      <th>1</th>\n",
       "      <td>465</td>\n",
       "      <td>597</td>\n",
       "    </tr>\n",
       "  </tbody>\n",
       "</table>\n",
       "</div>"
      ],
      "text/plain": [
       "Churn Label      No   Yes\n",
       "newly onboard            \n",
       "0              4709  1272\n",
       "1               465   597"
      ]
     },
     "execution_count": 26,
     "metadata": {},
     "output_type": "execute_result"
    }
   ],
   "source": [
    "pd.crosstab(df_telco['newly onboard'], df_telco['Churn Label'])"
   ]
  },
  {
   "cell_type": "code",
   "execution_count": 27,
   "id": "db5f5d67-3931-4fc2-980b-8f7fcef1d6b0",
   "metadata": {},
   "outputs": [
    {
     "data": {
      "text/plain": [
       "{'new_onboard_rev revenue': 36428.7,\n",
       " 'new_onboard_rev revenue(%)': 7.986707784807656}"
      ]
     },
     "execution_count": 27,
     "metadata": {},
     "output_type": "execute_result"
    }
   ],
   "source": [
    "new_onboard_rev = sum((df_telco['newly onboard'] == 1)*df_telco['Churn Value']*df_telco['Monthly Charges'])\n",
    "new_onboard_rev_pct = 100*new_onboard_rev/total_monthly_charges\n",
    "new_onboard_rev_monetary = {\n",
    "    'new_onboard_rev revenue':new_onboard_rev,\n",
    "    'new_onboard_rev revenue(%)':new_onboard_rev_pct,\n",
    "}\n",
    "new_onboard_rev_monetary"
   ]
  },
  {
   "cell_type": "markdown",
   "id": "3940503d-6511-4ff9-b7dd-57b5845d9941",
   "metadata": {},
   "source": [
    "## 3. People who use internet for streaming only, contribute to 6% revenue loss"
   ]
  },
  {
   "cell_type": "markdown",
   "id": "8e2cd7f6-5f45-4997-97ab-bad8d691bcdb",
   "metadata": {},
   "source": [
    "## Problem Identification"
   ]
  },
  {
   "cell_type": "code",
   "execution_count": 28,
   "id": "1f9f2f61-b2e4-49e7-bc1f-619e21daa163",
   "metadata": {},
   "outputs": [],
   "source": [
    "def cat_add_on_streaming(internet, security, backup, protection, support, tv, movie):\n",
    "    if internet != 'No' and 'Yes' not in [security, backup, protection, support] and 'Yes' in [tv, movie]:\n",
    "        return 'streamer'\n",
    "    else:\n",
    "        return 'control'"
   ]
  },
  {
   "cell_type": "code",
   "execution_count": 29,
   "id": "becb9b2c-abc2-4d32-80fa-8ee18742337d",
   "metadata": {},
   "outputs": [],
   "source": [
    "df_telco['streamer'] = df_telco.apply(lambda x: cat_add_on_streaming(\n",
    "    x['Internet Service'],\n",
    "    x['Online Security'],\n",
    "    x['Online Backup'],\n",
    "    x['Device Protection'],\n",
    "    x['Tech Support'],\n",
    "    x['Streaming TV'],\n",
    "    x['Streaming Movies']\n",
    "), axis = 1)"
   ]
  },
  {
   "cell_type": "code",
   "execution_count": 30,
   "id": "bb73ce87-33a1-4b6f-a7b6-52f88d59b389",
   "metadata": {},
   "outputs": [
    {
     "name": "stderr",
     "output_type": "stream",
     "text": [
      "C:\\Users\\muhyi\\AppData\\Local\\Temp\\ipykernel_7128\\1857794611.py:1: SettingWithCopyWarning: \n",
      "A value is trying to be set on a copy of a slice from a DataFrame.\n",
      "Try using .loc[row_indexer,col_indexer] = value instead\n",
      "\n",
      "See the caveats in the documentation: https://pandas.pydata.org/pandas-docs/stable/user_guide/indexing.html#returning-a-view-versus-a-copy\n",
      "  df_telco_internet['streamer'] = df_telco_internet.apply(lambda x: cat_add_on_streaming(\n"
     ]
    }
   ],
   "source": [
    "df_telco_internet['streamer'] = df_telco_internet.apply(lambda x: cat_add_on_streaming(\n",
    "    x['Internet Service'],\n",
    "    x['Online Security'],\n",
    "    x['Online Backup'],\n",
    "    x['Device Protection'],\n",
    "    x['Tech Support'],\n",
    "    x['Streaming TV'],\n",
    "    x['Streaming Movies']\n",
    "), axis = 1)"
   ]
  },
  {
   "cell_type": "code",
   "execution_count": 31,
   "id": "728a0371-3a87-491f-b380-b197c033c56b",
   "metadata": {},
   "outputs": [
    {
     "data": {
      "text/plain": [
       "streamer\n",
       "control     4943\n",
       "streamer     574\n",
       "Name: count, dtype: int64"
      ]
     },
     "execution_count": 31,
     "metadata": {},
     "output_type": "execute_result"
    }
   ],
   "source": [
    "df_telco_internet['streamer'].value_counts()"
   ]
  },
  {
   "cell_type": "code",
   "execution_count": 32,
   "id": "ef2dd53f-40b0-43fc-8891-ac2a36cb5d7e",
   "metadata": {},
   "outputs": [
    {
     "data": {
      "text/html": [
       "<div>\n",
       "<style scoped>\n",
       "    .dataframe tbody tr th:only-of-type {\n",
       "        vertical-align: middle;\n",
       "    }\n",
       "\n",
       "    .dataframe tbody tr th {\n",
       "        vertical-align: top;\n",
       "    }\n",
       "\n",
       "    .dataframe thead th {\n",
       "        text-align: right;\n",
       "    }\n",
       "</style>\n",
       "<table border=\"1\" class=\"dataframe\">\n",
       "  <thead>\n",
       "    <tr style=\"text-align: right;\">\n",
       "      <th>Churn Label</th>\n",
       "      <th>No</th>\n",
       "      <th>Yes</th>\n",
       "    </tr>\n",
       "    <tr>\n",
       "      <th>streamer</th>\n",
       "      <th></th>\n",
       "      <th></th>\n",
       "    </tr>\n",
       "  </thead>\n",
       "  <tbody>\n",
       "    <tr>\n",
       "      <th>control</th>\n",
       "      <td>3543</td>\n",
       "      <td>1400</td>\n",
       "    </tr>\n",
       "    <tr>\n",
       "      <th>streamer</th>\n",
       "      <td>218</td>\n",
       "      <td>356</td>\n",
       "    </tr>\n",
       "  </tbody>\n",
       "</table>\n",
       "</div>"
      ],
      "text/plain": [
       "Churn Label    No   Yes\n",
       "streamer               \n",
       "control      3543  1400\n",
       "streamer      218   356"
      ]
     },
     "execution_count": 32,
     "metadata": {},
     "output_type": "execute_result"
    }
   ],
   "source": [
    "pd.crosstab(df_telco_internet['streamer'], df_telco_internet['Churn Label'])"
   ]
  },
  {
   "cell_type": "code",
   "execution_count": 33,
   "id": "289807a1-c3c4-4b7b-ba77-028793e6d10e",
   "metadata": {},
   "outputs": [
    {
     "data": {
      "text/html": [
       "<div>\n",
       "<style scoped>\n",
       "    .dataframe tbody tr th:only-of-type {\n",
       "        vertical-align: middle;\n",
       "    }\n",
       "\n",
       "    .dataframe tbody tr th {\n",
       "        vertical-align: top;\n",
       "    }\n",
       "\n",
       "    .dataframe thead th {\n",
       "        text-align: right;\n",
       "    }\n",
       "</style>\n",
       "<table border=\"1\" class=\"dataframe\">\n",
       "  <thead>\n",
       "    <tr style=\"text-align: right;\">\n",
       "      <th>Churn Label</th>\n",
       "      <th>No</th>\n",
       "      <th>Yes</th>\n",
       "    </tr>\n",
       "    <tr>\n",
       "      <th>streamer</th>\n",
       "      <th></th>\n",
       "      <th></th>\n",
       "    </tr>\n",
       "  </thead>\n",
       "  <tbody>\n",
       "    <tr>\n",
       "      <th>control</th>\n",
       "      <td>0.716771</td>\n",
       "      <td>0.283229</td>\n",
       "    </tr>\n",
       "    <tr>\n",
       "      <th>streamer</th>\n",
       "      <td>0.379791</td>\n",
       "      <td>0.620209</td>\n",
       "    </tr>\n",
       "  </tbody>\n",
       "</table>\n",
       "</div>"
      ],
      "text/plain": [
       "Churn Label        No       Yes\n",
       "streamer                       \n",
       "control      0.716771  0.283229\n",
       "streamer     0.379791  0.620209"
      ]
     },
     "execution_count": 33,
     "metadata": {},
     "output_type": "execute_result"
    }
   ],
   "source": [
    "pd.crosstab(df_telco_internet['streamer'], df_telco_internet['Churn Label'], normalize = 0)"
   ]
  },
  {
   "cell_type": "markdown",
   "id": "56de01af-060d-4c9c-afe0-d6f31f07ca7e",
   "metadata": {},
   "source": [
    "PROBLEM 5 : Most Streamer are gone"
   ]
  },
  {
   "cell_type": "markdown",
   "id": "ba1b6485-ce35-4956-896a-924d1fe86b67",
   "metadata": {},
   "source": [
    "### Further Analysis"
   ]
  },
  {
   "cell_type": "code",
   "execution_count": 34,
   "id": "a8829d56-df4d-4a57-841e-26e7ef7b0632",
   "metadata": {},
   "outputs": [],
   "source": [
    "streamer_revenue = sum((df_telco_internet['streamer']=='streamer')*df_telco_internet['Monthly Charges'])\n",
    "all_revenue = sum(df_telco['Monthly Charges'])\n",
    "revenue_streamer_pct_all = 100*streamer_revenue/all_revenue"
   ]
  },
  {
   "cell_type": "code",
   "execution_count": 35,
   "id": "4631b931-27ea-4eab-9315-7873544a809d",
   "metadata": {},
   "outputs": [],
   "source": [
    "streamer_revenue_loss = sum((df_telco_internet['streamer']=='streamer')*df_telco_internet['Monthly Charges']*df_telco_internet['Churn Value'])\n",
    "streamer_revenue_keep = streamer_revenue - streamer_revenue_loss"
   ]
  },
  {
   "cell_type": "code",
   "execution_count": 36,
   "id": "bbc9fc57-7dc8-477f-92b9-7aac64bbd8b0",
   "metadata": {},
   "outputs": [
    {
     "data": {
      "text/plain": [
       "{'all revenue': 456116.6,\n",
       " 'streamer revenue': 45270.05,\n",
       " 'streamer revenue(%)': 9.92510467718123,\n",
       " 'streamer revenue keep': 16679.250000000004,\n",
       " 'streamer revenue keep (%)': 3.656795214206193,\n",
       " 'streamer revenue loss': 28590.8,\n",
       " 'streamer revenue loss (%)': 6.268309462975038}"
      ]
     },
     "execution_count": 36,
     "metadata": {},
     "output_type": "execute_result"
    }
   ],
   "source": [
    "streamer_monetary = {\n",
    "    'all revenue':all_revenue,\n",
    "    'streamer revenue':streamer_revenue,\n",
    "    'streamer revenue(%)':revenue_streamer_pct_all,\n",
    "    'streamer revenue keep':streamer_revenue_keep,\n",
    "    'streamer revenue keep (%)':100*streamer_revenue_keep/all_revenue,\n",
    "    'streamer revenue loss':streamer_revenue_loss,\n",
    "    'streamer revenue loss (%)':100*streamer_revenue_loss/all_revenue,\n",
    "}\n",
    "streamer_monetary"
   ]
  },
  {
   "cell_type": "markdown",
   "id": "30151473-0332-4902-bc86-9feda66dd6fd",
   "metadata": {},
   "source": [
    "## 4. Month-to-month Contract"
   ]
  },
  {
   "cell_type": "markdown",
   "id": "f7fd5455-92c8-4076-ae4a-e4486106d437",
   "metadata": {},
   "source": [
    "### Problem identification"
   ]
  },
  {
   "cell_type": "code",
   "execution_count": 37,
   "id": "9557a4bf-acf1-419c-aa48-2fface6b41b2",
   "metadata": {},
   "outputs": [
    {
     "data": {
      "text/html": [
       "<div>\n",
       "<style scoped>\n",
       "    .dataframe tbody tr th:only-of-type {\n",
       "        vertical-align: middle;\n",
       "    }\n",
       "\n",
       "    .dataframe tbody tr th {\n",
       "        vertical-align: top;\n",
       "    }\n",
       "\n",
       "    .dataframe thead th {\n",
       "        text-align: right;\n",
       "    }\n",
       "</style>\n",
       "<table border=\"1\" class=\"dataframe\">\n",
       "  <thead>\n",
       "    <tr style=\"text-align: right;\">\n",
       "      <th>Churn Label</th>\n",
       "      <th>No</th>\n",
       "      <th>Yes</th>\n",
       "    </tr>\n",
       "    <tr>\n",
       "      <th>Contract</th>\n",
       "      <th></th>\n",
       "      <th></th>\n",
       "    </tr>\n",
       "  </thead>\n",
       "  <tbody>\n",
       "    <tr>\n",
       "      <th>Month-to-month</th>\n",
       "      <td>2220</td>\n",
       "      <td>1655</td>\n",
       "    </tr>\n",
       "    <tr>\n",
       "      <th>One year</th>\n",
       "      <td>1307</td>\n",
       "      <td>166</td>\n",
       "    </tr>\n",
       "    <tr>\n",
       "      <th>Two year</th>\n",
       "      <td>1647</td>\n",
       "      <td>48</td>\n",
       "    </tr>\n",
       "  </tbody>\n",
       "</table>\n",
       "</div>"
      ],
      "text/plain": [
       "Churn Label       No   Yes\n",
       "Contract                  \n",
       "Month-to-month  2220  1655\n",
       "One year        1307   166\n",
       "Two year        1647    48"
      ]
     },
     "execution_count": 37,
     "metadata": {},
     "output_type": "execute_result"
    }
   ],
   "source": [
    "pd.crosstab(df_telco['Contract'], df_telco['Churn Label'])"
   ]
  },
  {
   "cell_type": "code",
   "execution_count": 38,
   "id": "8768b617-da51-4a8e-8a83-869136720501",
   "metadata": {},
   "outputs": [
    {
     "data": {
      "text/html": [
       "<div>\n",
       "<style scoped>\n",
       "    .dataframe tbody tr th:only-of-type {\n",
       "        vertical-align: middle;\n",
       "    }\n",
       "\n",
       "    .dataframe tbody tr th {\n",
       "        vertical-align: top;\n",
       "    }\n",
       "\n",
       "    .dataframe thead th {\n",
       "        text-align: right;\n",
       "    }\n",
       "</style>\n",
       "<table border=\"1\" class=\"dataframe\">\n",
       "  <thead>\n",
       "    <tr style=\"text-align: right;\">\n",
       "      <th>Churn Label</th>\n",
       "      <th>No</th>\n",
       "      <th>Yes</th>\n",
       "    </tr>\n",
       "    <tr>\n",
       "      <th>Contract</th>\n",
       "      <th></th>\n",
       "      <th></th>\n",
       "    </tr>\n",
       "  </thead>\n",
       "  <tbody>\n",
       "    <tr>\n",
       "      <th>Month-to-month</th>\n",
       "      <td>0.572903</td>\n",
       "      <td>0.427097</td>\n",
       "    </tr>\n",
       "    <tr>\n",
       "      <th>One year</th>\n",
       "      <td>0.887305</td>\n",
       "      <td>0.112695</td>\n",
       "    </tr>\n",
       "    <tr>\n",
       "      <th>Two year</th>\n",
       "      <td>0.971681</td>\n",
       "      <td>0.028319</td>\n",
       "    </tr>\n",
       "  </tbody>\n",
       "</table>\n",
       "</div>"
      ],
      "text/plain": [
       "Churn Label           No       Yes\n",
       "Contract                          \n",
       "Month-to-month  0.572903  0.427097\n",
       "One year        0.887305  0.112695\n",
       "Two year        0.971681  0.028319"
      ]
     },
     "execution_count": 38,
     "metadata": {},
     "output_type": "execute_result"
    }
   ],
   "source": [
    "pd.crosstab(df_telco['Contract'], df_telco['Churn Label'], normalize = 0)"
   ]
  },
  {
   "cell_type": "markdown",
   "id": "cdaa6df3-51ef-4917-90cc-ee2f750bd454",
   "metadata": {},
   "source": [
    "### Further Analysis"
   ]
  },
  {
   "cell_type": "code",
   "execution_count": 39,
   "id": "01f1ee74-7293-42a1-8ca7-87a36bca7905",
   "metadata": {},
   "outputs": [],
   "source": [
    "contract_rev = sum((df_telco['Contract']=='Month-to-month')*df_telco['Churn Value']*df_telco['Monthly Charges'])\n",
    "contract_rev_pct = 100*contract_rev/all_revenue"
   ]
  },
  {
   "cell_type": "code",
   "execution_count": 40,
   "id": "126c147c-53a8-4eaf-8d80-7dc28d836bb0",
   "metadata": {},
   "outputs": [
    {
     "data": {
      "text/plain": [
       "{'contract rev': 120847.1, 'contract rev (%)': 26.494782255239123}"
      ]
     },
     "execution_count": 40,
     "metadata": {},
     "output_type": "execute_result"
    }
   ],
   "source": [
    "contract_monetary = {\n",
    "    'contract rev':contract_rev,\n",
    "    'contract rev (%)':contract_rev_pct\n",
    "}\n",
    "contract_monetary"
   ]
  },
  {
   "cell_type": "markdown",
   "id": "21028303-e99d-4217-b7b9-385f2af8d1d0",
   "metadata": {},
   "source": [
    "# Detected Problem Percentage"
   ]
  },
  {
   "cell_type": "code",
   "execution_count": 41,
   "id": "46b680f8-01fc-4276-b967-ff62006057db",
   "metadata": {},
   "outputs": [],
   "source": [
    "df_telco['p1'] = (1 - df_telco['Additional Internet Service t'])*df_telco['Churn Value']\n",
    "df_telco['p2'] = (df_telco['Tenure Years']==0)*df_telco['Churn Value']\n",
    "df_telco['p3'] = (df_telco['streamer']=='streamer')*df_telco['Churn Value']\n",
    "df_telco['p4'] = (df_telco['Contract']=='Month-to-month')*df_telco['Churn Value']\n",
    "df_telco['p5'] = (df_telco['Paperless Billing']=='Yes')*df_telco['Churn Value']\n",
    "df_telco['p6'] = (df_telco['Payment Method']=='Electronic check')*df_telco['Churn Value']\n",
    "df_telco['p7'] = (df_telco['Senior Citizen']=='Yes')*df_telco['Churn Value']"
   ]
  },
  {
   "cell_type": "code",
   "execution_count": 42,
   "id": "d764e071-dd47-4f8a-bdc1-a61e35e7084f",
   "metadata": {},
   "outputs": [],
   "source": [
    "df_telco['problem'] = np.where(df_telco['p1'] | df_telco['p2'] | df_telco['p3'] | df_telco['p4'] | df_telco['p5'] | df_telco['p6']| df_telco['p7'],'identified','not identified')"
   ]
  },
  {
   "cell_type": "code",
   "execution_count": 43,
   "id": "f0bcaf69-0444-4156-a87e-2e07faaf20f7",
   "metadata": {},
   "outputs": [
    {
     "data": {
      "text/plain": [
       "problem\n",
       "identified        1840\n",
       "not identified      29\n",
       "Name: count, dtype: int64"
      ]
     },
     "execution_count": 43,
     "metadata": {},
     "output_type": "execute_result"
    }
   ],
   "source": [
    "df_telco[df_telco['Churn Label']=='Yes']['problem'].value_counts()"
   ]
  },
  {
   "cell_type": "code",
   "execution_count": 44,
   "id": "8a5e8dd2-08b0-4079-9705-428b50c17b14",
   "metadata": {},
   "outputs": [
    {
     "data": {
      "text/plain": [
       "problem\n",
       "identified        0.984484\n",
       "not identified    0.015516\n",
       "Name: count, dtype: float64"
      ]
     },
     "execution_count": 44,
     "metadata": {},
     "output_type": "execute_result"
    }
   ],
   "source": [
    "df_telco[df_telco['Churn Label']=='Yes']['problem'].value_counts()/df_telco[df_telco['Churn Label']=='Yes']['problem'].shape[0]"
   ]
  },
  {
   "cell_type": "code",
   "execution_count": 45,
   "id": "5d410749-7f12-4e79-9ef6-6c4100db4d24",
   "metadata": {},
   "outputs": [],
   "source": [
    "loss_revenue_identified = sum((df_telco['problem'] == 'identified')*df_telco['Churn Value']*df_telco['Monthly Charges'])"
   ]
  },
  {
   "cell_type": "code",
   "execution_count": 46,
   "id": "149ee682-7310-495f-860d-db69c94b54db",
   "metadata": {},
   "outputs": [
    {
     "data": {
      "text/plain": [
       "{'loss revenue all': 139130.85,\n",
       " 'loss revenue identified': 136642.0,\n",
       " 'loss revenue identified pct': 29.957690643138182}"
      ]
     },
     "execution_count": 46,
     "metadata": {},
     "output_type": "execute_result"
    }
   ],
   "source": [
    "loss_detected_monetary = {\n",
    "    'loss revenue all':monthly_charges_loss,\n",
    "    'loss revenue identified':loss_revenue_identified,\n",
    "    'loss revenue identified pct':100*loss_revenue_identified/all_revenue,\n",
    "}\n",
    "loss_detected_monetary"
   ]
  },
  {
   "cell_type": "code",
   "execution_count": 47,
   "id": "9f1465d8-2a44-4f1e-8f7a-aa1eb43278b8",
   "metadata": {},
   "outputs": [
    {
     "name": "stderr",
     "output_type": "stream",
     "text": [
      "C:\\Users\\muhyi\\AppData\\Local\\Temp\\ipykernel_7128\\802457165.py:3: SettingWithCopyWarning: \n",
      "A value is trying to be set on a copy of a slice from a DataFrame.\n",
      "Try using .loc[row_indexer,col_indexer] = value instead\n",
      "\n",
      "See the caveats in the documentation: https://pandas.pydata.org/pandas-docs/stable/user_guide/indexing.html#returning-a-view-versus-a-copy\n",
      "  df_telco_churn['p total'] = df_telco_churn[look_var[:-1]].sum(axis = 1)\n"
     ]
    }
   ],
   "source": [
    "look_var = ['p1','p2','p3','p4','p5','p6','p7','p total']\n",
    "df_telco_churn = df_telco[df_telco['Churn Value']==1]\n",
    "df_telco_churn['p total'] = df_telco_churn[look_var[:-1]].sum(axis = 1)"
   ]
  },
  {
   "cell_type": "code",
   "execution_count": 48,
   "id": "a52d0856-18f4-4b37-9ee8-865e91665b3c",
   "metadata": {},
   "outputs": [
    {
     "data": {
      "text/plain": [
       "p total\n",
       "0     29\n",
       "1    117\n",
       "2    274\n",
       "3    468\n",
       "4    449\n",
       "5    307\n",
       "6    187\n",
       "7     38\n",
       "Name: count, dtype: int64"
      ]
     },
     "execution_count": 48,
     "metadata": {},
     "output_type": "execute_result"
    }
   ],
   "source": [
    "df_telco_churn['p total'].value_counts().sort_index()"
   ]
  },
  {
   "cell_type": "code",
   "execution_count": 49,
   "id": "facbb8ce-93c6-4cb8-a54d-38388cfbe608",
   "metadata": {},
   "outputs": [
    {
     "data": {
      "text/html": [
       "<div>\n",
       "<style scoped>\n",
       "    .dataframe tbody tr th:only-of-type {\n",
       "        vertical-align: middle;\n",
       "    }\n",
       "\n",
       "    .dataframe tbody tr th {\n",
       "        vertical-align: top;\n",
       "    }\n",
       "\n",
       "    .dataframe thead th {\n",
       "        text-align: right;\n",
       "    }\n",
       "</style>\n",
       "<table border=\"1\" class=\"dataframe\">\n",
       "  <thead>\n",
       "    <tr style=\"text-align: right;\">\n",
       "      <th>p1</th>\n",
       "      <th>0</th>\n",
       "      <th>1</th>\n",
       "    </tr>\n",
       "    <tr>\n",
       "      <th>Churn Reason</th>\n",
       "      <th></th>\n",
       "      <th></th>\n",
       "    </tr>\n",
       "  </thead>\n",
       "  <tbody>\n",
       "    <tr>\n",
       "      <th>Attitude of support person</th>\n",
       "      <td>0.093449</td>\n",
       "      <td>0.114320</td>\n",
       "    </tr>\n",
       "    <tr>\n",
       "      <th>Competitor offered higher download speeds</th>\n",
       "      <td>0.099229</td>\n",
       "      <td>0.103490</td>\n",
       "    </tr>\n",
       "    <tr>\n",
       "      <th>Don't know</th>\n",
       "      <td>0.072254</td>\n",
       "      <td>0.095066</td>\n",
       "    </tr>\n",
       "    <tr>\n",
       "      <th>Competitor made better offer</th>\n",
       "      <td>0.069364</td>\n",
       "      <td>0.081829</td>\n",
       "    </tr>\n",
       "    <tr>\n",
       "      <th>Attitude of service provider</th>\n",
       "      <td>0.072254</td>\n",
       "      <td>0.072202</td>\n",
       "    </tr>\n",
       "    <tr>\n",
       "      <th>Competitor offered more data</th>\n",
       "      <td>0.098266</td>\n",
       "      <td>0.072202</td>\n",
       "    </tr>\n",
       "    <tr>\n",
       "      <th>Competitor had better devices</th>\n",
       "      <td>0.073218</td>\n",
       "      <td>0.064982</td>\n",
       "    </tr>\n",
       "    <tr>\n",
       "      <th>Product dissatisfaction</th>\n",
       "      <td>0.053950</td>\n",
       "      <td>0.055355</td>\n",
       "    </tr>\n",
       "    <tr>\n",
       "      <th>Price too high</th>\n",
       "      <td>0.052023</td>\n",
       "      <td>0.052948</td>\n",
       "    </tr>\n",
       "    <tr>\n",
       "      <th>Network reliability</th>\n",
       "      <td>0.057803</td>\n",
       "      <td>0.051745</td>\n",
       "    </tr>\n",
       "    <tr>\n",
       "      <th>Lack of self-service on Website</th>\n",
       "      <td>0.045279</td>\n",
       "      <td>0.049338</td>\n",
       "    </tr>\n",
       "    <tr>\n",
       "      <th>Service dissatisfaction</th>\n",
       "      <td>0.055877</td>\n",
       "      <td>0.037304</td>\n",
       "    </tr>\n",
       "    <tr>\n",
       "      <th>Extra data charges</th>\n",
       "      <td>0.028902</td>\n",
       "      <td>0.032491</td>\n",
       "    </tr>\n",
       "    <tr>\n",
       "      <th>Limited range of services</th>\n",
       "      <td>0.020231</td>\n",
       "      <td>0.027677</td>\n",
       "    </tr>\n",
       "    <tr>\n",
       "      <th>Moved</th>\n",
       "      <td>0.030829</td>\n",
       "      <td>0.025271</td>\n",
       "    </tr>\n",
       "    <tr>\n",
       "      <th>Long distance charges</th>\n",
       "      <td>0.026012</td>\n",
       "      <td>0.020457</td>\n",
       "    </tr>\n",
       "    <tr>\n",
       "      <th>Lack of affordable download/upload speed</th>\n",
       "      <td>0.026012</td>\n",
       "      <td>0.020457</td>\n",
       "    </tr>\n",
       "    <tr>\n",
       "      <th>Poor expertise of online support</th>\n",
       "      <td>0.010597</td>\n",
       "      <td>0.009627</td>\n",
       "    </tr>\n",
       "    <tr>\n",
       "      <th>Poor expertise of phone support</th>\n",
       "      <td>0.011561</td>\n",
       "      <td>0.009627</td>\n",
       "    </tr>\n",
       "    <tr>\n",
       "      <th>Deceased</th>\n",
       "      <td>0.002890</td>\n",
       "      <td>0.003610</td>\n",
       "    </tr>\n",
       "  </tbody>\n",
       "</table>\n",
       "</div>"
      ],
      "text/plain": [
       "p1                                                0         1\n",
       "Churn Reason                                                 \n",
       "Attitude of support person                 0.093449  0.114320\n",
       "Competitor offered higher download speeds  0.099229  0.103490\n",
       "Don't know                                 0.072254  0.095066\n",
       "Competitor made better offer               0.069364  0.081829\n",
       "Attitude of service provider               0.072254  0.072202\n",
       "Competitor offered more data               0.098266  0.072202\n",
       "Competitor had better devices              0.073218  0.064982\n",
       "Product dissatisfaction                    0.053950  0.055355\n",
       "Price too high                             0.052023  0.052948\n",
       "Network reliability                        0.057803  0.051745\n",
       "Lack of self-service on Website            0.045279  0.049338\n",
       "Service dissatisfaction                    0.055877  0.037304\n",
       "Extra data charges                         0.028902  0.032491\n",
       "Limited range of services                  0.020231  0.027677\n",
       "Moved                                      0.030829  0.025271\n",
       "Long distance charges                      0.026012  0.020457\n",
       "Lack of affordable download/upload speed   0.026012  0.020457\n",
       "Poor expertise of online support           0.010597  0.009627\n",
       "Poor expertise of phone support            0.011561  0.009627\n",
       "Deceased                                   0.002890  0.003610"
      ]
     },
     "execution_count": 49,
     "metadata": {},
     "output_type": "execute_result"
    }
   ],
   "source": [
    "pd.crosstab(df_telco_churn['Churn Reason'],df_telco_churn['p1'], normalize = 1).sort_values(1, ascending = False)"
   ]
  },
  {
   "cell_type": "code",
   "execution_count": 50,
   "id": "9c8c66ff-88c7-4b7d-b3eb-aa2142438a0a",
   "metadata": {},
   "outputs": [
    {
     "data": {
      "text/html": [
       "<div>\n",
       "<style scoped>\n",
       "    .dataframe tbody tr th:only-of-type {\n",
       "        vertical-align: middle;\n",
       "    }\n",
       "\n",
       "    .dataframe tbody tr th {\n",
       "        vertical-align: top;\n",
       "    }\n",
       "\n",
       "    .dataframe thead th {\n",
       "        text-align: right;\n",
       "    }\n",
       "</style>\n",
       "<table border=\"1\" class=\"dataframe\">\n",
       "  <thead>\n",
       "    <tr style=\"text-align: right;\">\n",
       "      <th>p2</th>\n",
       "      <th>0</th>\n",
       "      <th>1</th>\n",
       "    </tr>\n",
       "    <tr>\n",
       "      <th>Churn Reason</th>\n",
       "      <th></th>\n",
       "      <th></th>\n",
       "    </tr>\n",
       "  </thead>\n",
       "  <tbody>\n",
       "    <tr>\n",
       "      <th>Attitude of support person</th>\n",
       "      <td>0.105747</td>\n",
       "      <td>0.100100</td>\n",
       "    </tr>\n",
       "    <tr>\n",
       "      <th>Competitor offered higher download speeds</th>\n",
       "      <td>0.108046</td>\n",
       "      <td>0.095095</td>\n",
       "    </tr>\n",
       "    <tr>\n",
       "      <th>Competitor offered more data</th>\n",
       "      <td>0.087356</td>\n",
       "      <td>0.086086</td>\n",
       "    </tr>\n",
       "    <tr>\n",
       "      <th>Competitor made better offer</th>\n",
       "      <td>0.063218</td>\n",
       "      <td>0.085085</td>\n",
       "    </tr>\n",
       "    <tr>\n",
       "      <th>Don't know</th>\n",
       "      <td>0.085057</td>\n",
       "      <td>0.080080</td>\n",
       "    </tr>\n",
       "    <tr>\n",
       "      <th>Attitude of service provider</th>\n",
       "      <td>0.068966</td>\n",
       "      <td>0.075075</td>\n",
       "    </tr>\n",
       "    <tr>\n",
       "      <th>Competitor had better devices</th>\n",
       "      <td>0.063218</td>\n",
       "      <td>0.075075</td>\n",
       "    </tr>\n",
       "    <tr>\n",
       "      <th>Network reliability</th>\n",
       "      <td>0.043678</td>\n",
       "      <td>0.065065</td>\n",
       "    </tr>\n",
       "    <tr>\n",
       "      <th>Price too high</th>\n",
       "      <td>0.052874</td>\n",
       "      <td>0.052052</td>\n",
       "    </tr>\n",
       "    <tr>\n",
       "      <th>Product dissatisfaction</th>\n",
       "      <td>0.060920</td>\n",
       "      <td>0.049049</td>\n",
       "    </tr>\n",
       "    <tr>\n",
       "      <th>Lack of self-service on Website</th>\n",
       "      <td>0.049425</td>\n",
       "      <td>0.045045</td>\n",
       "    </tr>\n",
       "    <tr>\n",
       "      <th>Service dissatisfaction</th>\n",
       "      <td>0.054023</td>\n",
       "      <td>0.042042</td>\n",
       "    </tr>\n",
       "    <tr>\n",
       "      <th>Limited range of services</th>\n",
       "      <td>0.018391</td>\n",
       "      <td>0.028028</td>\n",
       "    </tr>\n",
       "    <tr>\n",
       "      <th>Moved</th>\n",
       "      <td>0.031034</td>\n",
       "      <td>0.026026</td>\n",
       "    </tr>\n",
       "    <tr>\n",
       "      <th>Extra data charges</th>\n",
       "      <td>0.036782</td>\n",
       "      <td>0.025025</td>\n",
       "    </tr>\n",
       "    <tr>\n",
       "      <th>Long distance charges</th>\n",
       "      <td>0.022989</td>\n",
       "      <td>0.024024</td>\n",
       "    </tr>\n",
       "    <tr>\n",
       "      <th>Lack of affordable download/upload speed</th>\n",
       "      <td>0.025287</td>\n",
       "      <td>0.022022</td>\n",
       "    </tr>\n",
       "    <tr>\n",
       "      <th>Poor expertise of online support</th>\n",
       "      <td>0.008046</td>\n",
       "      <td>0.012012</td>\n",
       "    </tr>\n",
       "    <tr>\n",
       "      <th>Poor expertise of phone support</th>\n",
       "      <td>0.012644</td>\n",
       "      <td>0.009009</td>\n",
       "    </tr>\n",
       "    <tr>\n",
       "      <th>Deceased</th>\n",
       "      <td>0.002299</td>\n",
       "      <td>0.004004</td>\n",
       "    </tr>\n",
       "  </tbody>\n",
       "</table>\n",
       "</div>"
      ],
      "text/plain": [
       "p2                                                0         1\n",
       "Churn Reason                                                 \n",
       "Attitude of support person                 0.105747  0.100100\n",
       "Competitor offered higher download speeds  0.108046  0.095095\n",
       "Competitor offered more data               0.087356  0.086086\n",
       "Competitor made better offer               0.063218  0.085085\n",
       "Don't know                                 0.085057  0.080080\n",
       "Attitude of service provider               0.068966  0.075075\n",
       "Competitor had better devices              0.063218  0.075075\n",
       "Network reliability                        0.043678  0.065065\n",
       "Price too high                             0.052874  0.052052\n",
       "Product dissatisfaction                    0.060920  0.049049\n",
       "Lack of self-service on Website            0.049425  0.045045\n",
       "Service dissatisfaction                    0.054023  0.042042\n",
       "Limited range of services                  0.018391  0.028028\n",
       "Moved                                      0.031034  0.026026\n",
       "Extra data charges                         0.036782  0.025025\n",
       "Long distance charges                      0.022989  0.024024\n",
       "Lack of affordable download/upload speed   0.025287  0.022022\n",
       "Poor expertise of online support           0.008046  0.012012\n",
       "Poor expertise of phone support            0.012644  0.009009\n",
       "Deceased                                   0.002299  0.004004"
      ]
     },
     "execution_count": 50,
     "metadata": {},
     "output_type": "execute_result"
    }
   ],
   "source": [
    "pd.crosstab(df_telco_churn['Churn Reason'],df_telco_churn['p2'], normalize = 1).sort_values(1, ascending = False)"
   ]
  },
  {
   "cell_type": "code",
   "execution_count": 51,
   "id": "9825959c-bb3b-46bb-93cf-82a863dcb2f4",
   "metadata": {},
   "outputs": [
    {
     "data": {
      "text/html": [
       "<div>\n",
       "<style scoped>\n",
       "    .dataframe tbody tr th:only-of-type {\n",
       "        vertical-align: middle;\n",
       "    }\n",
       "\n",
       "    .dataframe tbody tr th {\n",
       "        vertical-align: top;\n",
       "    }\n",
       "\n",
       "    .dataframe thead th {\n",
       "        text-align: right;\n",
       "    }\n",
       "</style>\n",
       "<table border=\"1\" class=\"dataframe\">\n",
       "  <thead>\n",
       "    <tr style=\"text-align: right;\">\n",
       "      <th>p3</th>\n",
       "      <th>0</th>\n",
       "      <th>1</th>\n",
       "    </tr>\n",
       "    <tr>\n",
       "      <th>Churn Reason</th>\n",
       "      <th></th>\n",
       "      <th></th>\n",
       "    </tr>\n",
       "  </thead>\n",
       "  <tbody>\n",
       "    <tr>\n",
       "      <th>Competitor offered higher download speeds</th>\n",
       "      <td>0.099141</td>\n",
       "      <td>0.109551</td>\n",
       "    </tr>\n",
       "    <tr>\n",
       "      <th>Attitude of support person</th>\n",
       "      <td>0.102445</td>\n",
       "      <td>0.103933</td>\n",
       "    </tr>\n",
       "    <tr>\n",
       "      <th>Don't know</th>\n",
       "      <td>0.080635</td>\n",
       "      <td>0.089888</td>\n",
       "    </tr>\n",
       "    <tr>\n",
       "      <th>Competitor made better offer</th>\n",
       "      <td>0.073364</td>\n",
       "      <td>0.081461</td>\n",
       "    </tr>\n",
       "    <tr>\n",
       "      <th>Attitude of service provider</th>\n",
       "      <td>0.072042</td>\n",
       "      <td>0.073034</td>\n",
       "    </tr>\n",
       "    <tr>\n",
       "      <th>Competitor offered more data</th>\n",
       "      <td>0.090549</td>\n",
       "      <td>0.070225</td>\n",
       "    </tr>\n",
       "    <tr>\n",
       "      <th>Competitor had better devices</th>\n",
       "      <td>0.070059</td>\n",
       "      <td>0.067416</td>\n",
       "    </tr>\n",
       "    <tr>\n",
       "      <th>Network reliability</th>\n",
       "      <td>0.053536</td>\n",
       "      <td>0.061798</td>\n",
       "    </tr>\n",
       "    <tr>\n",
       "      <th>Product dissatisfaction</th>\n",
       "      <td>0.054858</td>\n",
       "      <td>0.053371</td>\n",
       "    </tr>\n",
       "    <tr>\n",
       "      <th>Price too high</th>\n",
       "      <td>0.054197</td>\n",
       "      <td>0.044944</td>\n",
       "    </tr>\n",
       "    <tr>\n",
       "      <th>Lack of self-service on Website</th>\n",
       "      <td>0.047588</td>\n",
       "      <td>0.044944</td>\n",
       "    </tr>\n",
       "    <tr>\n",
       "      <th>Extra data charges</th>\n",
       "      <td>0.028420</td>\n",
       "      <td>0.039326</td>\n",
       "    </tr>\n",
       "    <tr>\n",
       "      <th>Limited range of services</th>\n",
       "      <td>0.021811</td>\n",
       "      <td>0.030899</td>\n",
       "    </tr>\n",
       "    <tr>\n",
       "      <th>Moved</th>\n",
       "      <td>0.027759</td>\n",
       "      <td>0.030899</td>\n",
       "    </tr>\n",
       "    <tr>\n",
       "      <th>Service dissatisfaction</th>\n",
       "      <td>0.051553</td>\n",
       "      <td>0.030899</td>\n",
       "    </tr>\n",
       "    <tr>\n",
       "      <th>Long distance charges</th>\n",
       "      <td>0.022472</td>\n",
       "      <td>0.028090</td>\n",
       "    </tr>\n",
       "    <tr>\n",
       "      <th>Lack of affordable download/upload speed</th>\n",
       "      <td>0.025116</td>\n",
       "      <td>0.016854</td>\n",
       "    </tr>\n",
       "    <tr>\n",
       "      <th>Poor expertise of phone support</th>\n",
       "      <td>0.011236</td>\n",
       "      <td>0.008427</td>\n",
       "    </tr>\n",
       "    <tr>\n",
       "      <th>Deceased</th>\n",
       "      <td>0.001983</td>\n",
       "      <td>0.008427</td>\n",
       "    </tr>\n",
       "    <tr>\n",
       "      <th>Poor expertise of online support</th>\n",
       "      <td>0.011236</td>\n",
       "      <td>0.005618</td>\n",
       "    </tr>\n",
       "  </tbody>\n",
       "</table>\n",
       "</div>"
      ],
      "text/plain": [
       "p3                                                0         1\n",
       "Churn Reason                                                 \n",
       "Competitor offered higher download speeds  0.099141  0.109551\n",
       "Attitude of support person                 0.102445  0.103933\n",
       "Don't know                                 0.080635  0.089888\n",
       "Competitor made better offer               0.073364  0.081461\n",
       "Attitude of service provider               0.072042  0.073034\n",
       "Competitor offered more data               0.090549  0.070225\n",
       "Competitor had better devices              0.070059  0.067416\n",
       "Network reliability                        0.053536  0.061798\n",
       "Product dissatisfaction                    0.054858  0.053371\n",
       "Price too high                             0.054197  0.044944\n",
       "Lack of self-service on Website            0.047588  0.044944\n",
       "Extra data charges                         0.028420  0.039326\n",
       "Limited range of services                  0.021811  0.030899\n",
       "Moved                                      0.027759  0.030899\n",
       "Service dissatisfaction                    0.051553  0.030899\n",
       "Long distance charges                      0.022472  0.028090\n",
       "Lack of affordable download/upload speed   0.025116  0.016854\n",
       "Poor expertise of phone support            0.011236  0.008427\n",
       "Deceased                                   0.001983  0.008427\n",
       "Poor expertise of online support           0.011236  0.005618"
      ]
     },
     "execution_count": 51,
     "metadata": {},
     "output_type": "execute_result"
    }
   ],
   "source": [
    "pd.crosstab(df_telco_churn['Churn Reason'],df_telco_churn['p3'], normalize = 1).sort_values(1, ascending = False)"
   ]
  },
  {
   "cell_type": "code",
   "execution_count": 52,
   "id": "599c925a-4562-4933-bbff-b016cae46a80",
   "metadata": {},
   "outputs": [
    {
     "data": {
      "text/html": [
       "<div>\n",
       "<style scoped>\n",
       "    .dataframe tbody tr th:only-of-type {\n",
       "        vertical-align: middle;\n",
       "    }\n",
       "\n",
       "    .dataframe tbody tr th {\n",
       "        vertical-align: top;\n",
       "    }\n",
       "\n",
       "    .dataframe thead th {\n",
       "        text-align: right;\n",
       "    }\n",
       "</style>\n",
       "<table border=\"1\" class=\"dataframe\">\n",
       "  <thead>\n",
       "    <tr style=\"text-align: right;\">\n",
       "      <th>p4</th>\n",
       "      <th>0</th>\n",
       "      <th>1</th>\n",
       "    </tr>\n",
       "    <tr>\n",
       "      <th>Churn Reason</th>\n",
       "      <th></th>\n",
       "      <th></th>\n",
       "    </tr>\n",
       "  </thead>\n",
       "  <tbody>\n",
       "    <tr>\n",
       "      <th>Attitude of support person</th>\n",
       "      <td>0.084112</td>\n",
       "      <td>0.105136</td>\n",
       "    </tr>\n",
       "    <tr>\n",
       "      <th>Competitor offered higher download speeds</th>\n",
       "      <td>0.130841</td>\n",
       "      <td>0.097281</td>\n",
       "    </tr>\n",
       "    <tr>\n",
       "      <th>Don't know</th>\n",
       "      <td>0.060748</td>\n",
       "      <td>0.085196</td>\n",
       "    </tr>\n",
       "    <tr>\n",
       "      <th>Competitor offered more data</th>\n",
       "      <td>0.102804</td>\n",
       "      <td>0.084592</td>\n",
       "    </tr>\n",
       "    <tr>\n",
       "      <th>Competitor made better offer</th>\n",
       "      <td>0.065421</td>\n",
       "      <td>0.076133</td>\n",
       "    </tr>\n",
       "    <tr>\n",
       "      <th>Competitor had better devices</th>\n",
       "      <td>0.065421</td>\n",
       "      <td>0.070091</td>\n",
       "    </tr>\n",
       "    <tr>\n",
       "      <th>Attitude of service provider</th>\n",
       "      <td>0.093458</td>\n",
       "      <td>0.069486</td>\n",
       "    </tr>\n",
       "    <tr>\n",
       "      <th>Network reliability</th>\n",
       "      <td>0.051402</td>\n",
       "      <td>0.055589</td>\n",
       "    </tr>\n",
       "    <tr>\n",
       "      <th>Price too high</th>\n",
       "      <td>0.042056</td>\n",
       "      <td>0.053776</td>\n",
       "    </tr>\n",
       "    <tr>\n",
       "      <th>Product dissatisfaction</th>\n",
       "      <td>0.079439</td>\n",
       "      <td>0.051360</td>\n",
       "    </tr>\n",
       "    <tr>\n",
       "      <th>Lack of self-service on Website</th>\n",
       "      <td>0.018692</td>\n",
       "      <td>0.050755</td>\n",
       "    </tr>\n",
       "    <tr>\n",
       "      <th>Service dissatisfaction</th>\n",
       "      <td>0.028037</td>\n",
       "      <td>0.050151</td>\n",
       "    </tr>\n",
       "    <tr>\n",
       "      <th>Extra data charges</th>\n",
       "      <td>0.018692</td>\n",
       "      <td>0.032024</td>\n",
       "    </tr>\n",
       "    <tr>\n",
       "      <th>Moved</th>\n",
       "      <td>0.046729</td>\n",
       "      <td>0.025982</td>\n",
       "    </tr>\n",
       "    <tr>\n",
       "      <th>Limited range of services</th>\n",
       "      <td>0.018692</td>\n",
       "      <td>0.024169</td>\n",
       "    </tr>\n",
       "    <tr>\n",
       "      <th>Long distance charges</th>\n",
       "      <td>0.032710</td>\n",
       "      <td>0.022356</td>\n",
       "    </tr>\n",
       "    <tr>\n",
       "      <th>Lack of affordable download/upload speed</th>\n",
       "      <td>0.037383</td>\n",
       "      <td>0.021752</td>\n",
       "    </tr>\n",
       "    <tr>\n",
       "      <th>Poor expertise of online support</th>\n",
       "      <td>0.004673</td>\n",
       "      <td>0.010876</td>\n",
       "    </tr>\n",
       "    <tr>\n",
       "      <th>Poor expertise of phone support</th>\n",
       "      <td>0.018692</td>\n",
       "      <td>0.009668</td>\n",
       "    </tr>\n",
       "    <tr>\n",
       "      <th>Deceased</th>\n",
       "      <td>0.000000</td>\n",
       "      <td>0.003625</td>\n",
       "    </tr>\n",
       "  </tbody>\n",
       "</table>\n",
       "</div>"
      ],
      "text/plain": [
       "p4                                                0         1\n",
       "Churn Reason                                                 \n",
       "Attitude of support person                 0.084112  0.105136\n",
       "Competitor offered higher download speeds  0.130841  0.097281\n",
       "Don't know                                 0.060748  0.085196\n",
       "Competitor offered more data               0.102804  0.084592\n",
       "Competitor made better offer               0.065421  0.076133\n",
       "Competitor had better devices              0.065421  0.070091\n",
       "Attitude of service provider               0.093458  0.069486\n",
       "Network reliability                        0.051402  0.055589\n",
       "Price too high                             0.042056  0.053776\n",
       "Product dissatisfaction                    0.079439  0.051360\n",
       "Lack of self-service on Website            0.018692  0.050755\n",
       "Service dissatisfaction                    0.028037  0.050151\n",
       "Extra data charges                         0.018692  0.032024\n",
       "Moved                                      0.046729  0.025982\n",
       "Limited range of services                  0.018692  0.024169\n",
       "Long distance charges                      0.032710  0.022356\n",
       "Lack of affordable download/upload speed   0.037383  0.021752\n",
       "Poor expertise of online support           0.004673  0.010876\n",
       "Poor expertise of phone support            0.018692  0.009668\n",
       "Deceased                                   0.000000  0.003625"
      ]
     },
     "execution_count": 52,
     "metadata": {},
     "output_type": "execute_result"
    }
   ],
   "source": [
    "pd.crosstab(df_telco_churn['Churn Reason'],df_telco_churn['p4'], normalize = 1).sort_values(1, ascending = False)"
   ]
  },
  {
   "cell_type": "code",
   "execution_count": 53,
   "id": "ca7f938f-7f66-4127-b941-1a3fb6a202b2",
   "metadata": {},
   "outputs": [
    {
     "data": {
      "text/html": [
       "<div>\n",
       "<style scoped>\n",
       "    .dataframe tbody tr th:only-of-type {\n",
       "        vertical-align: middle;\n",
       "    }\n",
       "\n",
       "    .dataframe tbody tr th {\n",
       "        vertical-align: top;\n",
       "    }\n",
       "\n",
       "    .dataframe thead th {\n",
       "        text-align: right;\n",
       "    }\n",
       "</style>\n",
       "<table border=\"1\" class=\"dataframe\">\n",
       "  <thead>\n",
       "    <tr style=\"text-align: right;\">\n",
       "      <th>p5</th>\n",
       "      <th>0</th>\n",
       "      <th>1</th>\n",
       "    </tr>\n",
       "    <tr>\n",
       "      <th>Churn Reason</th>\n",
       "      <th></th>\n",
       "      <th></th>\n",
       "    </tr>\n",
       "  </thead>\n",
       "  <tbody>\n",
       "    <tr>\n",
       "      <th>Competitor offered higher download speeds</th>\n",
       "      <td>0.095949</td>\n",
       "      <td>0.102857</td>\n",
       "    </tr>\n",
       "    <tr>\n",
       "      <th>Attitude of support person</th>\n",
       "      <td>0.106610</td>\n",
       "      <td>0.101429</td>\n",
       "    </tr>\n",
       "    <tr>\n",
       "      <th>Competitor offered more data</th>\n",
       "      <td>0.081023</td>\n",
       "      <td>0.088571</td>\n",
       "    </tr>\n",
       "    <tr>\n",
       "      <th>Don't know</th>\n",
       "      <td>0.085288</td>\n",
       "      <td>0.081429</td>\n",
       "    </tr>\n",
       "    <tr>\n",
       "      <th>Competitor made better offer</th>\n",
       "      <td>0.074627</td>\n",
       "      <td>0.075000</td>\n",
       "    </tr>\n",
       "    <tr>\n",
       "      <th>Attitude of service provider</th>\n",
       "      <td>0.068230</td>\n",
       "      <td>0.073571</td>\n",
       "    </tr>\n",
       "    <tr>\n",
       "      <th>Competitor had better devices</th>\n",
       "      <td>0.074627</td>\n",
       "      <td>0.067857</td>\n",
       "    </tr>\n",
       "    <tr>\n",
       "      <th>Network reliability</th>\n",
       "      <td>0.059701</td>\n",
       "      <td>0.053571</td>\n",
       "    </tr>\n",
       "    <tr>\n",
       "      <th>Product dissatisfaction</th>\n",
       "      <td>0.059701</td>\n",
       "      <td>0.052857</td>\n",
       "    </tr>\n",
       "    <tr>\n",
       "      <th>Price too high</th>\n",
       "      <td>0.053305</td>\n",
       "      <td>0.052143</td>\n",
       "    </tr>\n",
       "    <tr>\n",
       "      <th>Service dissatisfaction</th>\n",
       "      <td>0.038380</td>\n",
       "      <td>0.050714</td>\n",
       "    </tr>\n",
       "    <tr>\n",
       "      <th>Lack of self-service on Website</th>\n",
       "      <td>0.038380</td>\n",
       "      <td>0.050000</td>\n",
       "    </tr>\n",
       "    <tr>\n",
       "      <th>Extra data charges</th>\n",
       "      <td>0.029851</td>\n",
       "      <td>0.030714</td>\n",
       "    </tr>\n",
       "    <tr>\n",
       "      <th>Lack of affordable download/upload speed</th>\n",
       "      <td>0.019190</td>\n",
       "      <td>0.025000</td>\n",
       "    </tr>\n",
       "    <tr>\n",
       "      <th>Moved</th>\n",
       "      <td>0.040512</td>\n",
       "      <td>0.024286</td>\n",
       "    </tr>\n",
       "    <tr>\n",
       "      <th>Limited range of services</th>\n",
       "      <td>0.023454</td>\n",
       "      <td>0.023571</td>\n",
       "    </tr>\n",
       "    <tr>\n",
       "      <th>Long distance charges</th>\n",
       "      <td>0.031983</td>\n",
       "      <td>0.020714</td>\n",
       "    </tr>\n",
       "    <tr>\n",
       "      <th>Poor expertise of online support</th>\n",
       "      <td>0.006397</td>\n",
       "      <td>0.011429</td>\n",
       "    </tr>\n",
       "    <tr>\n",
       "      <th>Poor expertise of phone support</th>\n",
       "      <td>0.008529</td>\n",
       "      <td>0.011429</td>\n",
       "    </tr>\n",
       "    <tr>\n",
       "      <th>Deceased</th>\n",
       "      <td>0.004264</td>\n",
       "      <td>0.002857</td>\n",
       "    </tr>\n",
       "  </tbody>\n",
       "</table>\n",
       "</div>"
      ],
      "text/plain": [
       "p5                                                0         1\n",
       "Churn Reason                                                 \n",
       "Competitor offered higher download speeds  0.095949  0.102857\n",
       "Attitude of support person                 0.106610  0.101429\n",
       "Competitor offered more data               0.081023  0.088571\n",
       "Don't know                                 0.085288  0.081429\n",
       "Competitor made better offer               0.074627  0.075000\n",
       "Attitude of service provider               0.068230  0.073571\n",
       "Competitor had better devices              0.074627  0.067857\n",
       "Network reliability                        0.059701  0.053571\n",
       "Product dissatisfaction                    0.059701  0.052857\n",
       "Price too high                             0.053305  0.052143\n",
       "Service dissatisfaction                    0.038380  0.050714\n",
       "Lack of self-service on Website            0.038380  0.050000\n",
       "Extra data charges                         0.029851  0.030714\n",
       "Lack of affordable download/upload speed   0.019190  0.025000\n",
       "Moved                                      0.040512  0.024286\n",
       "Limited range of services                  0.023454  0.023571\n",
       "Long distance charges                      0.031983  0.020714\n",
       "Poor expertise of online support           0.006397  0.011429\n",
       "Poor expertise of phone support            0.008529  0.011429\n",
       "Deceased                                   0.004264  0.002857"
      ]
     },
     "execution_count": 53,
     "metadata": {},
     "output_type": "execute_result"
    }
   ],
   "source": [
    "pd.crosstab(df_telco_churn['Churn Reason'],df_telco_churn['p5'], normalize = 1).sort_values(1, ascending = False)"
   ]
  },
  {
   "cell_type": "code",
   "execution_count": 54,
   "id": "cb0f1def-ff80-4711-8103-aca0914314dc",
   "metadata": {},
   "outputs": [
    {
     "data": {
      "text/html": [
       "<div>\n",
       "<style scoped>\n",
       "    .dataframe tbody tr th:only-of-type {\n",
       "        vertical-align: middle;\n",
       "    }\n",
       "\n",
       "    .dataframe tbody tr th {\n",
       "        vertical-align: top;\n",
       "    }\n",
       "\n",
       "    .dataframe thead th {\n",
       "        text-align: right;\n",
       "    }\n",
       "</style>\n",
       "<table border=\"1\" class=\"dataframe\">\n",
       "  <thead>\n",
       "    <tr style=\"text-align: right;\">\n",
       "      <th>p6</th>\n",
       "      <th>0</th>\n",
       "      <th>1</th>\n",
       "    </tr>\n",
       "    <tr>\n",
       "      <th>Churn Reason</th>\n",
       "      <th></th>\n",
       "      <th></th>\n",
       "    </tr>\n",
       "  </thead>\n",
       "  <tbody>\n",
       "    <tr>\n",
       "      <th>Competitor offered higher download speeds</th>\n",
       "      <td>0.096491</td>\n",
       "      <td>0.104575</td>\n",
       "    </tr>\n",
       "    <tr>\n",
       "      <th>Attitude of support person</th>\n",
       "      <td>0.102757</td>\n",
       "      <td>0.102708</td>\n",
       "    </tr>\n",
       "    <tr>\n",
       "      <th>Competitor offered more data</th>\n",
       "      <td>0.086466</td>\n",
       "      <td>0.086835</td>\n",
       "    </tr>\n",
       "    <tr>\n",
       "      <th>Attitude of service provider</th>\n",
       "      <td>0.065163</td>\n",
       "      <td>0.077498</td>\n",
       "    </tr>\n",
       "    <tr>\n",
       "      <th>Competitor made better offer</th>\n",
       "      <td>0.071429</td>\n",
       "      <td>0.077498</td>\n",
       "    </tr>\n",
       "    <tr>\n",
       "      <th>Don't know</th>\n",
       "      <td>0.091479</td>\n",
       "      <td>0.075630</td>\n",
       "    </tr>\n",
       "    <tr>\n",
       "      <th>Competitor had better devices</th>\n",
       "      <td>0.066416</td>\n",
       "      <td>0.071895</td>\n",
       "    </tr>\n",
       "    <tr>\n",
       "      <th>Network reliability</th>\n",
       "      <td>0.051378</td>\n",
       "      <td>0.057890</td>\n",
       "    </tr>\n",
       "    <tr>\n",
       "      <th>Product dissatisfaction</th>\n",
       "      <td>0.052632</td>\n",
       "      <td>0.056022</td>\n",
       "    </tr>\n",
       "    <tr>\n",
       "      <th>Service dissatisfaction</th>\n",
       "      <td>0.042607</td>\n",
       "      <td>0.051354</td>\n",
       "    </tr>\n",
       "    <tr>\n",
       "      <th>Price too high</th>\n",
       "      <td>0.055138</td>\n",
       "      <td>0.050420</td>\n",
       "    </tr>\n",
       "    <tr>\n",
       "      <th>Lack of self-service on Website</th>\n",
       "      <td>0.047619</td>\n",
       "      <td>0.046685</td>\n",
       "    </tr>\n",
       "    <tr>\n",
       "      <th>Limited range of services</th>\n",
       "      <td>0.018797</td>\n",
       "      <td>0.027077</td>\n",
       "    </tr>\n",
       "    <tr>\n",
       "      <th>Moved</th>\n",
       "      <td>0.032581</td>\n",
       "      <td>0.025210</td>\n",
       "    </tr>\n",
       "    <tr>\n",
       "      <th>Extra data charges</th>\n",
       "      <td>0.040100</td>\n",
       "      <td>0.023343</td>\n",
       "    </tr>\n",
       "    <tr>\n",
       "      <th>Long distance charges</th>\n",
       "      <td>0.025063</td>\n",
       "      <td>0.022409</td>\n",
       "    </tr>\n",
       "    <tr>\n",
       "      <th>Lack of affordable download/upload speed</th>\n",
       "      <td>0.027569</td>\n",
       "      <td>0.020542</td>\n",
       "    </tr>\n",
       "    <tr>\n",
       "      <th>Poor expertise of online support</th>\n",
       "      <td>0.010025</td>\n",
       "      <td>0.010271</td>\n",
       "    </tr>\n",
       "    <tr>\n",
       "      <th>Poor expertise of phone support</th>\n",
       "      <td>0.016291</td>\n",
       "      <td>0.006536</td>\n",
       "    </tr>\n",
       "    <tr>\n",
       "      <th>Deceased</th>\n",
       "      <td>0.000000</td>\n",
       "      <td>0.005602</td>\n",
       "    </tr>\n",
       "  </tbody>\n",
       "</table>\n",
       "</div>"
      ],
      "text/plain": [
       "p6                                                0         1\n",
       "Churn Reason                                                 \n",
       "Competitor offered higher download speeds  0.096491  0.104575\n",
       "Attitude of support person                 0.102757  0.102708\n",
       "Competitor offered more data               0.086466  0.086835\n",
       "Attitude of service provider               0.065163  0.077498\n",
       "Competitor made better offer               0.071429  0.077498\n",
       "Don't know                                 0.091479  0.075630\n",
       "Competitor had better devices              0.066416  0.071895\n",
       "Network reliability                        0.051378  0.057890\n",
       "Product dissatisfaction                    0.052632  0.056022\n",
       "Service dissatisfaction                    0.042607  0.051354\n",
       "Price too high                             0.055138  0.050420\n",
       "Lack of self-service on Website            0.047619  0.046685\n",
       "Limited range of services                  0.018797  0.027077\n",
       "Moved                                      0.032581  0.025210\n",
       "Extra data charges                         0.040100  0.023343\n",
       "Long distance charges                      0.025063  0.022409\n",
       "Lack of affordable download/upload speed   0.027569  0.020542\n",
       "Poor expertise of online support           0.010025  0.010271\n",
       "Poor expertise of phone support            0.016291  0.006536\n",
       "Deceased                                   0.000000  0.005602"
      ]
     },
     "execution_count": 54,
     "metadata": {},
     "output_type": "execute_result"
    }
   ],
   "source": [
    "pd.crosstab(df_telco_churn['Churn Reason'],df_telco_churn['p6'], normalize = 1).sort_values(1, ascending = False)"
   ]
  },
  {
   "cell_type": "code",
   "execution_count": 55,
   "id": "dce48a0b-9e31-49c8-aec1-9b7fb0f73f11",
   "metadata": {},
   "outputs": [
    {
     "data": {
      "text/html": [
       "<div>\n",
       "<style scoped>\n",
       "    .dataframe tbody tr th:only-of-type {\n",
       "        vertical-align: middle;\n",
       "    }\n",
       "\n",
       "    .dataframe tbody tr th {\n",
       "        vertical-align: top;\n",
       "    }\n",
       "\n",
       "    .dataframe thead th {\n",
       "        text-align: right;\n",
       "    }\n",
       "</style>\n",
       "<table border=\"1\" class=\"dataframe\">\n",
       "  <thead>\n",
       "    <tr style=\"text-align: right;\">\n",
       "      <th>p7</th>\n",
       "      <th>0</th>\n",
       "      <th>1</th>\n",
       "    </tr>\n",
       "    <tr>\n",
       "      <th>Churn Reason</th>\n",
       "      <th></th>\n",
       "      <th></th>\n",
       "    </tr>\n",
       "  </thead>\n",
       "  <tbody>\n",
       "    <tr>\n",
       "      <th>Competitor offered higher download speeds</th>\n",
       "      <td>0.100503</td>\n",
       "      <td>0.102941</td>\n",
       "    </tr>\n",
       "    <tr>\n",
       "      <th>Competitor made better offer</th>\n",
       "      <td>0.066045</td>\n",
       "      <td>0.100840</td>\n",
       "    </tr>\n",
       "    <tr>\n",
       "      <th>Attitude of support person</th>\n",
       "      <td>0.107681</td>\n",
       "      <td>0.088235</td>\n",
       "    </tr>\n",
       "    <tr>\n",
       "      <th>Attitude of service provider</th>\n",
       "      <td>0.069634</td>\n",
       "      <td>0.079832</td>\n",
       "    </tr>\n",
       "    <tr>\n",
       "      <th>Competitor offered more data</th>\n",
       "      <td>0.089734</td>\n",
       "      <td>0.077731</td>\n",
       "    </tr>\n",
       "    <tr>\n",
       "      <th>Price too high</th>\n",
       "      <td>0.045944</td>\n",
       "      <td>0.071429</td>\n",
       "    </tr>\n",
       "    <tr>\n",
       "      <th>Competitor had better devices</th>\n",
       "      <td>0.071070</td>\n",
       "      <td>0.065126</td>\n",
       "    </tr>\n",
       "    <tr>\n",
       "      <th>Don't know</th>\n",
       "      <td>0.088299</td>\n",
       "      <td>0.065126</td>\n",
       "    </tr>\n",
       "    <tr>\n",
       "      <th>Product dissatisfaction</th>\n",
       "      <td>0.053123</td>\n",
       "      <td>0.058824</td>\n",
       "    </tr>\n",
       "    <tr>\n",
       "      <th>Network reliability</th>\n",
       "      <td>0.055994</td>\n",
       "      <td>0.052521</td>\n",
       "    </tr>\n",
       "    <tr>\n",
       "      <th>Service dissatisfaction</th>\n",
       "      <td>0.049533</td>\n",
       "      <td>0.042017</td>\n",
       "    </tr>\n",
       "    <tr>\n",
       "      <th>Extra data charges</th>\n",
       "      <td>0.027279</td>\n",
       "      <td>0.039916</td>\n",
       "    </tr>\n",
       "    <tr>\n",
       "      <th>Lack of self-service on Website</th>\n",
       "      <td>0.050969</td>\n",
       "      <td>0.035714</td>\n",
       "    </tr>\n",
       "    <tr>\n",
       "      <th>Limited range of services</th>\n",
       "      <td>0.020101</td>\n",
       "      <td>0.033613</td>\n",
       "    </tr>\n",
       "    <tr>\n",
       "      <th>Long distance charges</th>\n",
       "      <td>0.022972</td>\n",
       "      <td>0.025210</td>\n",
       "    </tr>\n",
       "    <tr>\n",
       "      <th>Lack of affordable download/upload speed</th>\n",
       "      <td>0.023690</td>\n",
       "      <td>0.023109</td>\n",
       "    </tr>\n",
       "    <tr>\n",
       "      <th>Moved</th>\n",
       "      <td>0.032304</td>\n",
       "      <td>0.016807</td>\n",
       "    </tr>\n",
       "    <tr>\n",
       "      <th>Poor expertise of online support</th>\n",
       "      <td>0.010050</td>\n",
       "      <td>0.010504</td>\n",
       "    </tr>\n",
       "    <tr>\n",
       "      <th>Poor expertise of phone support</th>\n",
       "      <td>0.012204</td>\n",
       "      <td>0.006303</td>\n",
       "    </tr>\n",
       "    <tr>\n",
       "      <th>Deceased</th>\n",
       "      <td>0.002872</td>\n",
       "      <td>0.004202</td>\n",
       "    </tr>\n",
       "  </tbody>\n",
       "</table>\n",
       "</div>"
      ],
      "text/plain": [
       "p7                                                0         1\n",
       "Churn Reason                                                 \n",
       "Competitor offered higher download speeds  0.100503  0.102941\n",
       "Competitor made better offer               0.066045  0.100840\n",
       "Attitude of support person                 0.107681  0.088235\n",
       "Attitude of service provider               0.069634  0.079832\n",
       "Competitor offered more data               0.089734  0.077731\n",
       "Price too high                             0.045944  0.071429\n",
       "Competitor had better devices              0.071070  0.065126\n",
       "Don't know                                 0.088299  0.065126\n",
       "Product dissatisfaction                    0.053123  0.058824\n",
       "Network reliability                        0.055994  0.052521\n",
       "Service dissatisfaction                    0.049533  0.042017\n",
       "Extra data charges                         0.027279  0.039916\n",
       "Lack of self-service on Website            0.050969  0.035714\n",
       "Limited range of services                  0.020101  0.033613\n",
       "Long distance charges                      0.022972  0.025210\n",
       "Lack of affordable download/upload speed   0.023690  0.023109\n",
       "Moved                                      0.032304  0.016807\n",
       "Poor expertise of online support           0.010050  0.010504\n",
       "Poor expertise of phone support            0.012204  0.006303\n",
       "Deceased                                   0.002872  0.004202"
      ]
     },
     "execution_count": 55,
     "metadata": {},
     "output_type": "execute_result"
    }
   ],
   "source": [
    "pd.crosstab(df_telco_churn['Churn Reason'],df_telco_churn['p7'], normalize = 1).sort_values(1, ascending = False)"
   ]
  },
  {
   "cell_type": "markdown",
   "id": "d09bf11b-c0fd-44a3-8818-41e54861f5f0",
   "metadata": {},
   "source": [
    "# Summary"
   ]
  },
  {
   "cell_type": "code",
   "execution_count": 56,
   "id": "683416bd-ae20-4dba-8cf9-a1b5daadb95c",
   "metadata": {},
   "outputs": [],
   "source": [
    "churn_rate_p1 = df_telco[(df_telco['Additional Internet Service t'] == 0)&(df_telco['Internet Service'] != 'No')]['Churn Value'].mean()\n",
    "churn_rate_p2 = df_telco[(df_telco['Tenure Years'] == 0)]['Churn Value'].mean()\n",
    "churn_rate_p3 = df_telco[df_telco['streamer']=='streamer']['Churn Value'].mean()\n",
    "churn_rate_p4 = df_telco[df_telco['Contract']=='Month-to-month']['Churn Value'].mean()\n",
    "churn_rate_p5 = df_telco[df_telco['Paperless Billing']=='Yes']['Churn Value'].mean()\n",
    "churn_rate_p6 = df_telco[df_telco['Payment Method']=='Electronic check']['Churn Value'].mean()\n",
    "churn_rate_p7 = df_telco[df_telco['Senior Citizen']=='Yes']['Churn Value'].mean()"
   ]
  },
  {
   "cell_type": "code",
   "execution_count": 57,
   "id": "a311e048-4939-428e-9d25-74f38e0e1699",
   "metadata": {},
   "outputs": [],
   "source": [
    "loss_p1 = (df_telco[(df_telco['Additional Internet Service t'] == 0)&(df_telco['Internet Service'] != 'No')]['Churn Value']*df_telco['Monthly Charges']).sum()\n",
    "loss_p2 = (df_telco[(df_telco['Tenure Years'] == 0)]['Churn Value']*df_telco['Monthly Charges']).sum()\n",
    "loss_p3 = (df_telco[df_telco['streamer']=='streamer']['Churn Value']*df_telco['Monthly Charges']).sum()\n",
    "loss_p4 = (df_telco[df_telco['Contract']=='Month-to-month']['Churn Value']*df_telco['Monthly Charges']).sum()\n",
    "loss_p5 = (df_telco[df_telco['Paperless Billing']=='Yes']['Churn Value']*df_telco['Monthly Charges']).sum()\n",
    "loss_p6 = (df_telco[df_telco['Payment Method']=='Electronic check']['Churn Value']*df_telco['Monthly Charges']).sum()\n",
    "loss_p7 = (df_telco[df_telco['Senior Citizen']=='Yes']['Churn Value']*df_telco['Monthly Charges']).sum()"
   ]
  },
  {
   "cell_type": "code",
   "execution_count": 58,
   "id": "e0aed51a-0e08-48a4-9d6e-81425a44b21f",
   "metadata": {},
   "outputs": [
    {
     "data": {
      "text/html": [
       "<div>\n",
       "<style scoped>\n",
       "    .dataframe tbody tr th:only-of-type {\n",
       "        vertical-align: middle;\n",
       "    }\n",
       "\n",
       "    .dataframe tbody tr th {\n",
       "        vertical-align: top;\n",
       "    }\n",
       "\n",
       "    .dataframe thead th {\n",
       "        text-align: right;\n",
       "    }\n",
       "</style>\n",
       "<table border=\"1\" class=\"dataframe\">\n",
       "  <thead>\n",
       "    <tr style=\"text-align: right;\">\n",
       "      <th></th>\n",
       "      <th>segment</th>\n",
       "      <th>churn rate</th>\n",
       "      <th>loss</th>\n",
       "    </tr>\n",
       "  </thead>\n",
       "  <tbody>\n",
       "    <tr>\n",
       "      <th>0</th>\n",
       "      <td>p1 : Internet user without additional services</td>\n",
       "      <td>0.566693</td>\n",
       "      <td>50806.05</td>\n",
       "    </tr>\n",
       "    <tr>\n",
       "      <th>1</th>\n",
       "      <td>p2 : New Customer, oboarded less than a year</td>\n",
       "      <td>0.482842</td>\n",
       "      <td>66022.30</td>\n",
       "    </tr>\n",
       "    <tr>\n",
       "      <th>2</th>\n",
       "      <td>p3 : Movie Streamer and TV Streamer</td>\n",
       "      <td>0.620209</td>\n",
       "      <td>28590.80</td>\n",
       "    </tr>\n",
       "    <tr>\n",
       "      <th>3</th>\n",
       "      <td>p4 : User with month-to-month contract</td>\n",
       "      <td>0.427097</td>\n",
       "      <td>120847.10</td>\n",
       "    </tr>\n",
       "    <tr>\n",
       "      <th>4</th>\n",
       "      <td>p5 : Paperless Billing</td>\n",
       "      <td>0.335651</td>\n",
       "      <td>109510.00</td>\n",
       "    </tr>\n",
       "    <tr>\n",
       "      <th>5</th>\n",
       "      <td>p6 : Electronic check</td>\n",
       "      <td>0.452854</td>\n",
       "      <td>84288.75</td>\n",
       "    </tr>\n",
       "    <tr>\n",
       "      <th>6</th>\n",
       "      <td>p7 : Senior Citizen</td>\n",
       "      <td>0.416813</td>\n",
       "      <td>38419.60</td>\n",
       "    </tr>\n",
       "  </tbody>\n",
       "</table>\n",
       "</div>"
      ],
      "text/plain": [
       "                                          segment  churn rate       loss\n",
       "0  p1 : Internet user without additional services    0.566693   50806.05\n",
       "1    p2 : New Customer, oboarded less than a year    0.482842   66022.30\n",
       "2             p3 : Movie Streamer and TV Streamer    0.620209   28590.80\n",
       "3          p4 : User with month-to-month contract    0.427097  120847.10\n",
       "4                          p5 : Paperless Billing    0.335651  109510.00\n",
       "5                           p6 : Electronic check    0.452854   84288.75\n",
       "6                             p7 : Senior Citizen    0.416813   38419.60"
      ]
     },
     "execution_count": 58,
     "metadata": {},
     "output_type": "execute_result"
    }
   ],
   "source": [
    "churn_rate_breakdown = [churn_rate_p1, churn_rate_p2, churn_rate_p3, churn_rate_p4, churn_rate_p5, churn_rate_p6, churn_rate_p7]\n",
    "loss_breakdown = [loss_p1, loss_p2, loss_p3, loss_p4, loss_p5, loss_p6, loss_p7]\n",
    "segments = [\n",
    "    'p1 : Internet user without additional services', \n",
    "    'p2 : New Customer, oboarded less than a year',\n",
    "    'p3 : Movie Streamer and TV Streamer',\n",
    "    'p4 : User with month-to-month contract',\n",
    "    'p5 : Paperless Billing',\n",
    "    'p6 : Electronic check',\n",
    "    'p7 : Senior Citizen'\n",
    "]\n",
    "churn_rate_per_segment = pd.DataFrame({\n",
    "    'segment':segments,\n",
    "    'churn rate':churn_rate_breakdown,\n",
    "    'loss':loss_breakdown\n",
    "})\n",
    "churn_rate_per_segment"
   ]
  },
  {
   "cell_type": "code",
   "execution_count": 59,
   "id": "b85da0e1-9c01-4691-8c61-ca562890d87a",
   "metadata": {},
   "outputs": [],
   "source": [
    "churn_rate_per_segment.to_excel('churn rate breakdown.xlsx', index = False)"
   ]
  },
  {
   "cell_type": "markdown",
   "id": "ecefb85c-b565-4b63-8bc6-626dd33595f5",
   "metadata": {},
   "source": [
    "# Save Data"
   ]
  },
  {
   "cell_type": "code",
   "execution_count": 60,
   "id": "675f03f5-27b9-465b-9f9d-d50da6b7c7d0",
   "metadata": {},
   "outputs": [],
   "source": [
    "df_telco.to_csv('Telco_customer_churn_clean.csv', index = False)"
   ]
  }
 ],
 "metadata": {
  "kernelspec": {
   "display_name": "Python 3 (ipykernel)",
   "language": "python",
   "name": "python3"
  },
  "language_info": {
   "codemirror_mode": {
    "name": "ipython",
    "version": 3
   },
   "file_extension": ".py",
   "mimetype": "text/x-python",
   "name": "python",
   "nbconvert_exporter": "python",
   "pygments_lexer": "ipython3",
   "version": "3.12.7"
  }
 },
 "nbformat": 4,
 "nbformat_minor": 5
}
